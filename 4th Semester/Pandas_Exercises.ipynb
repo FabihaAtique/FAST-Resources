{
  "nbformat": 4,
  "nbformat_minor": 0,
  "metadata": {
    "colab": {
      "name": "Pandas Exercises.ipynb",
      "provenance": []
    },
    "kernelspec": {
      "name": "python3",
      "display_name": "Python 3"
    },
    "language_info": {
      "name": "python"
    }
  },
  "cells": [
    {
      "cell_type": "markdown",
      "source": [
        "![rmotr](https://dsc-logo-generator.web.app/dsc_icon-01.svg)\n",
        "<hr style=\"margin-bottom: 40px;\">\n",
        "\n",
        "# Google-DSC Data Science Pandas exercises\n",
        "\n",
        "![purple-divider](https://user-images.githubusercontent.com/7065401/52071927-c1cd7100-2562-11e9-908a-dde91ba14e59.png)\n"
      ],
      "metadata": {
        "id": "74vsPm4h9t0o"
      }
    },
    {
      "cell_type": "markdown",
      "source": [
        "#### Import numpy, pandas, matplotlib,seaborn python packages"
      ],
      "metadata": {
        "id": "OpwE8NcJiLfC"
      }
    },
    {
      "cell_type": "code",
      "execution_count": null,
      "metadata": {
        "id": "2U2qbi2Nhz8N"
      },
      "outputs": [],
      "source": [
        ""
      ]
    },
    {
      "cell_type": "markdown",
      "source": [
        "#### Import dataset from this link"
      ],
      "metadata": {
        "id": "ED82P2sviWsj"
      }
    },
    {
      "cell_type": "code",
      "source": [
        "url = 'https://raw.githubusercontent.com/Sketchjar/MachineLearningHD/main/bank_marketing_dataset.csv'\n",
        "\n",
        "df = #code goes here"
      ],
      "metadata": {
        "id": "z7LiNXp5icXs"
      },
      "execution_count": null,
      "outputs": []
    },
    {
      "cell_type": "markdown",
      "source": [
        "#### See the Sample Head of pandas dataframe and the last entries of the dataset"
      ],
      "metadata": {
        "id": "gpheaX72ipWE"
      }
    },
    {
      "cell_type": "code",
      "source": [
        ""
      ],
      "metadata": {
        "id": "KgT7QNUmithG"
      },
      "execution_count": null,
      "outputs": []
    },
    {
      "cell_type": "markdown",
      "source": [
        "##### Check Random 10 Sample from dataframe"
      ],
      "metadata": {
        "id": "vjmh2RMrjSp5"
      }
    },
    {
      "cell_type": "code",
      "source": [
        ""
      ],
      "metadata": {
        "id": "WdH0bBFLjTsj"
      },
      "execution_count": null,
      "outputs": []
    },
    {
      "cell_type": "markdown",
      "source": [
        "##### What is shape of pandas dataset?"
      ],
      "metadata": {
        "id": "Ki74Sq5Ajcqj"
      }
    },
    {
      "cell_type": "code",
      "source": [
        ""
      ],
      "metadata": {
        "id": "wlMYwFLijllE"
      },
      "execution_count": null,
      "outputs": []
    },
    {
      "cell_type": "markdown",
      "source": [
        "##### List the names of columns"
      ],
      "metadata": {
        "id": "MHGIOj-ojmKa"
      }
    },
    {
      "cell_type": "code",
      "source": [
        ""
      ],
      "metadata": {
        "id": "BQznye2-jzfk"
      },
      "execution_count": null,
      "outputs": []
    },
    {
      "cell_type": "markdown",
      "source": [
        "##### Retreive the Index column"
      ],
      "metadata": {
        "id": "MoaFZR65jqsw"
      }
    },
    {
      "cell_type": "code",
      "source": [
        ""
      ],
      "metadata": {
        "id": "ugms5b2tjqL2"
      },
      "execution_count": null,
      "outputs": []
    },
    {
      "cell_type": "markdown",
      "source": [
        "##### Check the null values of all columns and their datatypes"
      ],
      "metadata": {
        "id": "-gGNgSqHj0To"
      }
    },
    {
      "cell_type": "code",
      "source": [
        ""
      ],
      "metadata": {
        "id": "BEhTQmIvkMkV"
      },
      "execution_count": null,
      "outputs": []
    },
    {
      "cell_type": "markdown",
      "source": [
        "##### Give brief statistics of your dataframe"
      ],
      "metadata": {
        "id": "gKH3lQ_jkNm8"
      }
    },
    {
      "cell_type": "code",
      "source": [
        ""
      ],
      "metadata": {
        "id": "a1IXtPUOkYhe"
      },
      "execution_count": null,
      "outputs": []
    },
    {
      "cell_type": "markdown",
      "source": [
        "##### Replace all the columns name"
      ],
      "metadata": {
        "id": "TKeoYr78kZQX"
      }
    },
    {
      "cell_type": "code",
      "source": [
        ""
      ],
      "metadata": {
        "id": "CAqiaDLOkkHs"
      },
      "execution_count": null,
      "outputs": []
    },
    {
      "cell_type": "markdown",
      "source": [
        "##### Check null values in job Column"
      ],
      "metadata": {
        "id": "rqEtyU2xklGr"
      }
    },
    {
      "cell_type": "code",
      "source": [
        ""
      ],
      "metadata": {
        "id": "PlzMrAKnksEy"
      },
      "execution_count": null,
      "outputs": []
    },
    {
      "cell_type": "markdown",
      "source": [
        "##### Impute the unknown value in job column – most common value"
      ],
      "metadata": {
        "id": "_0KHmEYNksk4"
      }
    },
    {
      "cell_type": "code",
      "source": [
        ""
      ],
      "metadata": {
        "id": "FF7jL0K1kyTk"
      },
      "execution_count": null,
      "outputs": []
    },
    {
      "cell_type": "markdown",
      "source": [
        "##### Display unique values in the job column"
      ],
      "metadata": {
        "id": "mM5Xq40-lAkw"
      }
    },
    {
      "cell_type": "code",
      "source": [
        ""
      ],
      "metadata": {
        "id": "D8kAkHsOlCEd"
      },
      "execution_count": null,
      "outputs": []
    },
    {
      "cell_type": "markdown",
      "source": [
        "##### Display number of unique values in job column"
      ],
      "metadata": {
        "id": "KZWMLMYrlCYO"
      }
    },
    {
      "cell_type": "code",
      "source": [
        ""
      ],
      "metadata": {
        "id": "9UyuzF0SlNtG"
      },
      "execution_count": null,
      "outputs": []
    },
    {
      "cell_type": "markdown",
      "source": [
        "##### Create a correlation heatmap for the dataframe"
      ],
      "metadata": {
        "id": "gKOMKggBlObv"
      }
    },
    {
      "cell_type": "code",
      "source": [
        ""
      ],
      "metadata": {
        "id": "tcDly_YsljqG"
      },
      "execution_count": null,
      "outputs": []
    },
    {
      "cell_type": "markdown",
      "source": [
        "# Advance questions\n",
        "![purple-divider](https://user-images.githubusercontent.com/7065401/52071927-c1cd7100-2562-11e9-908a-dde91ba14e59.png)\n"
      ],
      "metadata": {
        "id": "16khVNCIlkNY"
      }
    },
    {
      "cell_type": "markdown",
      "source": [
        "##### Download this dataset from link"
      ],
      "metadata": {
        "id": "VYKGhcFzmPZC"
      }
    },
    {
      "cell_type": "code",
      "source": [
        "url = 'https://raw.githubusercontent.com/Sketchjar/MachineLearningHD/main/churn.csv'\n",
        "\n",
        "df = # your code goes here"
      ],
      "metadata": {
        "id": "qGZMWGwgmN2o"
      },
      "execution_count": null,
      "outputs": []
    },
    {
      "cell_type": "markdown",
      "source": [
        "##### Check the names of columns and the shape of dataframe"
      ],
      "metadata": {
        "id": "Mcu7KhsYmYCq"
      }
    },
    {
      "cell_type": "code",
      "source": [
        ""
      ],
      "metadata": {
        "id": "_ZOYCLClmiEK"
      },
      "execution_count": null,
      "outputs": []
    },
    {
      "cell_type": "markdown",
      "source": [
        "##### Print Descriptive statistics of categorical columns"
      ],
      "metadata": {
        "id": "zQX8kLjOmyry"
      }
    },
    {
      "cell_type": "code",
      "source": [
        ""
      ],
      "metadata": {
        "id": "wIrv0njYmx_Q"
      },
      "execution_count": null,
      "outputs": []
    },
    {
      "cell_type": "markdown",
      "source": [
        "##### What is total sum of TotalCharges- remember it is showing as a categorical variable."
      ],
      "metadata": {
        "id": "gVi0NwaFm1vf"
      }
    },
    {
      "cell_type": "code",
      "source": [
        ""
      ],
      "metadata": {
        "id": "9DJTDVSum88o"
      },
      "execution_count": null,
      "outputs": []
    },
    {
      "cell_type": "markdown",
      "source": [
        "##### What is average of total charges"
      ],
      "metadata": {
        "id": "CoLTMpYGnBbf"
      }
    },
    {
      "cell_type": "code",
      "source": [
        ""
      ],
      "metadata": {
        "id": "KNpaQKBtnCZv"
      },
      "execution_count": null,
      "outputs": []
    },
    {
      "cell_type": "markdown",
      "source": [
        "##### What is average amount does senior citizen pay"
      ],
      "metadata": {
        "id": "y_solrMDnC0p"
      }
    },
    {
      "cell_type": "code",
      "source": [
        ""
      ],
      "metadata": {
        "id": "IymqnYPWnGPD"
      },
      "execution_count": null,
      "outputs": []
    },
    {
      "cell_type": "markdown",
      "source": [
        "##### What is average tenure by gender"
      ],
      "metadata": {
        "id": "h8cSDtzvnGyK"
      }
    },
    {
      "cell_type": "code",
      "source": [
        ""
      ],
      "metadata": {
        "id": "CujjyMKFnJ8v"
      },
      "execution_count": null,
      "outputs": []
    },
    {
      "cell_type": "markdown",
      "source": [
        "##### what is the breakup of payment method for total charges"
      ],
      "metadata": {
        "id": "nMitikkUnKd_"
      }
    },
    {
      "cell_type": "code",
      "source": [
        ""
      ],
      "metadata": {
        "id": "s3cevqvCnNkm"
      },
      "execution_count": null,
      "outputs": []
    },
    {
      "cell_type": "markdown",
      "source": [
        "##### Convert ‘TotalCharges’ from categorical to numerical column"
      ],
      "metadata": {
        "id": "ES6ujCownOI6"
      }
    },
    {
      "cell_type": "code",
      "source": [
        ""
      ],
      "metadata": {
        "id": "hzcFGpYwnUC1"
      },
      "execution_count": null,
      "outputs": []
    },
    {
      "cell_type": "markdown",
      "source": [
        "##### Create a separate dataframe with only numerical values"
      ],
      "metadata": {
        "id": "VoBma3CVnU4H"
      }
    },
    {
      "cell_type": "code",
      "source": [
        ""
      ],
      "metadata": {
        "id": "2lvaRKQinpXO"
      },
      "execution_count": null,
      "outputs": []
    },
    {
      "cell_type": "markdown",
      "source": [
        "##### Fill Nulls values in the dataframe with columns mean"
      ],
      "metadata": {
        "id": "6Zyel8Pjnp7E"
      }
    },
    {
      "cell_type": "code",
      "source": [
        ""
      ],
      "metadata": {
        "id": "WNJ0OdEdntKu"
      },
      "execution_count": null,
      "outputs": []
    },
    {
      "cell_type": "markdown",
      "source": [
        "##### Create five bins for tenure, use a custom function\n",
        "\n",
        "\n"
      ],
      "metadata": {
        "id": "Losu0nn7ntnG"
      }
    },
    {
      "cell_type": "code",
      "source": [
        ""
      ],
      "metadata": {
        "id": "8SPw7BJTnze-"
      },
      "execution_count": null,
      "outputs": []
    },
    {
      "cell_type": "markdown",
      "source": [
        "##### Draw a histogram for any column in the dataset"
      ],
      "metadata": {
        "id": "T56s31-SoDoy"
      }
    },
    {
      "cell_type": "code",
      "source": [
        ""
      ],
      "metadata": {
        "id": "_iN7_WB3oErP"
      },
      "execution_count": null,
      "outputs": []
    },
    {
      "cell_type": "markdown",
      "source": [
        "##### Draw boxplot for Total charges and check if there any outliers"
      ],
      "metadata": {
        "id": "B1MbF5f9yilh"
      }
    },
    {
      "cell_type": "code",
      "source": [
        ""
      ],
      "metadata": {
        "id": "s2EkB5g7yj0o"
      },
      "execution_count": null,
      "outputs": []
    },
    {
      "cell_type": "markdown",
      "source": [
        "![purple-divider](https://user-images.githubusercontent.com/7065401/52071927-c1cd7100-2562-11e9-908a-dde91ba14e59.png)\n"
      ],
      "metadata": {
        "id": "SsZreNN4ykUY"
      }
    }
  ]
}