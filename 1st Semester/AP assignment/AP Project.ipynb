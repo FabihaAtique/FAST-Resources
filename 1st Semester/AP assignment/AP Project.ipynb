{
 "cells": [
  {
   "cell_type": "markdown",
   "metadata": {},
   "source": [
    "# ***1. Vectors Problem***\n"
   ]
  },
  {
   "cell_type": "markdown",
   "metadata": {},
   "source": [
    "**X=2i-3j-7k,Y=-3i+6j-k and Z=2i+5j-4k,  Find a)3X-2Y+Z b)|X+Y+Z| c)|4X-Y+3Z|**"
   ]
  },
  {
   "cell_type": "code",
   "execution_count": 62,
   "metadata": {},
   "outputs": [],
   "source": [
    "import numpy as np\n",
    "def vector():\n",
    "    X=np.array([2,-3,-7])\n",
    "    Y=np.array([-3,6,-1])\n",
    "    Z=np.array([2,5,-4])\n",
    "    a=((3*X)-(2*Y)+Z)\n",
    "    b=np.linalg.norm(X+Y+Z)\n",
    "    c=np.linalg.norm((4*X)-(Y)+(3*Z))\n",
    "    print(\"The answers of part a,b and c parts are:\")\n",
    "    return(a,b,c)\n"
   ]
  },
  {
   "cell_type": "code",
   "execution_count": 63,
   "metadata": {},
   "outputs": [
    {
     "name": "stdout",
     "output_type": "stream",
     "text": [
      "The answers of part a,b and c parts are:\n"
     ]
    },
    {
     "data": {
      "text/plain": [
       "(array([ 14, -16, -23]), 14.45683229480096, 42.649736224272246)"
      ]
     },
     "execution_count": 63,
     "metadata": {},
     "output_type": "execute_result"
    }
   ],
   "source": [
    "vector()"
   ]
  },
  {
   "cell_type": "markdown",
   "metadata": {},
   "source": [
    "# ***2. Dot product and Cross product***\n"
   ]
  },
  {
   "cell_type": "markdown",
   "metadata": {},
   "source": [
    "**Find the vector perpendicular to the two vectors P=2i+5j+4k and Q=4i-3j+6k.**"
   ]
  },
  {
   "cell_type": "code",
   "execution_count": 64,
   "metadata": {},
   "outputs": [],
   "source": [
    "import numpy as np\n",
    "def cross():\n",
    "    P=np.array([2,5,4])\n",
    "    Q=np.array([4,-3,6])\n",
    "    R=np.cross(P,Q)\n",
    "    print(\"The vector perpendicular to the two vectors is given by:\")\n",
    "    return(R)"
   ]
  },
  {
   "cell_type": "code",
   "execution_count": 65,
   "metadata": {},
   "outputs": [
    {
     "name": "stdout",
     "output_type": "stream",
     "text": [
      "The vector perpendicular to the two vectors is given by:\n"
     ]
    },
    {
     "data": {
      "text/plain": [
       "array([ 42,   4, -26])"
      ]
     },
     "execution_count": 65,
     "metadata": {},
     "output_type": "execute_result"
    }
   ],
   "source": [
    "cross()"
   ]
  },
  {
   "cell_type": "markdown",
   "metadata": {},
   "source": [
    " #  ***3. Motion in 1D***\n"
   ]
  },
  {
   "cell_type": "markdown",
   "metadata": {},
   "source": [
    "\n",
    "\n",
    "**Bullet having a mass 0.005kg is moving witha speed of 100m/s.It penetrates into a bag of sand and is brought rest after moving 25cm. into the bag.Find the decelarating force on the bullet.Also caculate the time in which it is brought rest.**"
   ]
  },
  {
   "cell_type": "code",
   "execution_count": 66,
   "metadata": {},
   "outputs": [],
   "source": [
    "def Motion1D(m,vi,d):\n",
    "    vf=0\n",
    "    S=d/100\n",
    "    a=(((vf**2)-(vi**2))/(2*S))\n",
    "    F=m*a\n",
    "    print(\"The Force and time are: \")\n",
    "    t=((vf-vi)/a)\n",
    "    return(F,t)"
   ]
  },
  {
   "cell_type": "code",
   "execution_count": 67,
   "metadata": {},
   "outputs": [
    {
     "name": "stdout",
     "output_type": "stream",
     "text": [
      "The Force and time are: \n"
     ]
    },
    {
     "data": {
      "text/plain": [
       "(-100.0, 0.005)"
      ]
     },
     "execution_count": 67,
     "metadata": {},
     "output_type": "execute_result"
    }
   ],
   "source": [
    "Motion1D(0.005,100,25)"
   ]
  },
  {
   "cell_type": "markdown",
   "metadata": {},
   "source": [
    " #  ***Graph of distance,time and velocity***\n"
   ]
  },
  {
   "cell_type": "code",
   "execution_count": 68,
   "metadata": {},
   "outputs": [
    {
     "name": "stdout",
     "output_type": "stream",
     "text": [
      "Enter Time: 50\n"
     ]
    },
    {
     "data": {
      "image/png": "[encoded data removed]",
      "text/plain": [
       "<Figure size 432x288 with 1 Axes>"
      ]
     },
     "metadata": {
      "needs_background": "light"
     },
     "output_type": "display_data"
    }
   ],
   "source": [
    "import matplotlib.pyplot as plt\n",
    "g=10\n",
    "time=int(input(\"Enter Time: \"))\n",
    "dt=time/100\n",
    "time=np.arange(0,time,dt)\n",
    "velocity=g*time\n",
    "d=5.98*g*time**2\n",
    "plt.plot(time,velocity,'g')\n",
    "plt.xlabel(\"Time\")\n",
    "plt.ylabel(\"Velocity\")\n",
    "plt.title(\"Velocity Time graph\")\n",
    "plt.show()"
   ]
  },
  {
   "cell_type": "markdown",
   "metadata": {},
   "source": [
    " #  ***4. Motion in 2D***\n"
   ]
  },
  {
   "cell_type": "markdown",
   "metadata": {},
   "source": [
    "**A ball rolls off a building that is 108m high.Calculate the time that it takes for the ball to hit the ground.**"
   ]
  },
  {
   "cell_type": "code",
   "execution_count": 69,
   "metadata": {},
   "outputs": [],
   "source": [
    "def motion2D(d):\n",
    "    h=-d\n",
    "    g=-9.8\n",
    "    from math import sqrt\n",
    "    t=sqrt((2*h)/g)\n",
    "    print(\"The time is: \")\n",
    "    return(t)"
   ]
  },
  {
   "cell_type": "code",
   "execution_count": 70,
   "metadata": {},
   "outputs": [
    {
     "name": "stdout",
     "output_type": "stream",
     "text": [
      "The time is: \n"
     ]
    },
    {
     "data": {
      "text/plain": [
       "4.694764778615709"
      ]
     },
     "execution_count": 70,
     "metadata": {},
     "output_type": "execute_result"
    }
   ],
   "source": [
    "motion2D(108)"
   ]
  },
  {
   "cell_type": "markdown",
   "metadata": {},
   "source": [
    " #  ***Graph between Max height  and Range***\n"
   ]
  },
  {
   "cell_type": "code",
   "execution_count": 71,
   "metadata": {},
   "outputs": [
    {
     "data": {
      "image/png": "[encoded data removed]",
      "text/plain": [
       "<Figure size 432x288 with 1 Axes>"
      ]
     },
     "metadata": {
      "needs_background": "light"
     },
     "output_type": "display_data"
    }
   ],
   "source": [
    "import matplotlib.pyplot as plt\n",
    "height=np.arange(0,8*np.pi,0.4)\n",
    "range=np.sin(height)\n",
    "plt.plot(height,range)\n",
    "plt.xlabel(\"Max. Height\")\n",
    "plt.ylabel(\"Range\")\n",
    "plt.title(\"Max. Height Range graph\")\n",
    "plt.show()"
   ]
  },
  {
   "cell_type": "markdown",
   "metadata": {},
   "source": [
    " #  ***5. Projectile***\n"
   ]
  },
  {
   "cell_type": "markdown",
   "metadata": {},
   "source": [
    "**A mortar shell is fired at a ground level target 350 meter distance what an initial velocity of 60m/s . what is its launch angle?**"
   ]
  },
  {
   "cell_type": "code",
   "execution_count": 72,
   "metadata": {},
   "outputs": [],
   "source": [
    "import numpy as np \n",
    "def projectile(dis,Vel):\n",
    "    g=9.8\n",
    "    theta=np.arcsin(((dis*g)/Vel**2)/2)\n",
    "    t=np.degrees(theta)\n",
    "    print(\"The theta is: \")\n",
    "    return(t)"
   ]
  },
  {
   "cell_type": "code",
   "execution_count": 73,
   "metadata": {},
   "outputs": [
    {
     "name": "stdout",
     "output_type": "stream",
     "text": [
      "The theta is: \n"
     ]
    },
    {
     "data": {
      "text/plain": [
       "28.449819023970537"
      ]
     },
     "execution_count": 73,
     "metadata": {},
     "output_type": "execute_result"
    }
   ],
   "source": [
    "projectile(350,60)"
   ]
  },
  {
   "cell_type": "markdown",
   "metadata": {},
   "source": [
    " #  ***6. Uniform Circular motion***\n",
    "\n",
    " "
   ]
  },
  {
   "cell_type": "markdown",
   "metadata": {},
   "source": [
    "**A plane moving at 450m/s makes a circle turn of radius 2.5km.What is centripetal acceleration?**"
   ]
  },
  {
   "cell_type": "code",
   "execution_count": 74,
   "metadata": {},
   "outputs": [],
   "source": [
    "def CircularMotion(Velo,dis):\n",
    "    r=dis*1000\n",
    "    Ac=(Velo**2)/r\n",
    "    print(\"The Centripetal Acceleration is:\")\n",
    "    return(Ac)"
   ]
  },
  {
   "cell_type": "code",
   "execution_count": 75,
   "metadata": {},
   "outputs": [
    {
     "name": "stdout",
     "output_type": "stream",
     "text": [
      "The Centripetal Acceleration is:\n"
     ]
    },
    {
     "data": {
      "text/plain": [
       "81.0"
      ]
     },
     "execution_count": 75,
     "metadata": {},
     "output_type": "execute_result"
    }
   ],
   "source": [
    "CircularMotion(450,2.5)"
   ]
  },
  {
   "cell_type": "markdown",
   "metadata": {},
   "source": [
    " #  ***7. Newton laws***\n",
    "\n",
    " "
   ]
  },
  {
   "cell_type": "markdown",
   "metadata": {},
   "source": [
    "**An 60kg Astronaut in space throws a 3kg package with an acceleration of 6m/s^2.a)What force did the astronaut exerts on the package.b)What force did the package exert on the astronaut?.c)What is the acceleration of the astronaut?.** "
   ]
  },
  {
   "cell_type": "code",
   "execution_count": 76,
   "metadata": {},
   "outputs": [],
   "source": [
    "def Newton(mass1,mass2,acc):\n",
    "    F1=(mass2)*acc\n",
    "    F2=-(F1)\n",
    "    a1=-(F1)/(mass1)\n",
    "    print(\"The force which astronaut exerts into the package,the force the package exerts on the astronaut,the acceleration of the astronaut is: \")\n",
    "    return(F1,F2,a1)"
   ]
  },
  {
   "cell_type": "code",
   "execution_count": 77,
   "metadata": {},
   "outputs": [
    {
     "name": "stdout",
     "output_type": "stream",
     "text": [
      "The force which astronaut exerts into the package,the force the package exerts on the astronaut,the acceleration of the astronaut is: \n"
     ]
    },
    {
     "data": {
      "text/plain": [
       "(18, -18, -0.3)"
      ]
     },
     "execution_count": 77,
     "metadata": {},
     "output_type": "execute_result"
    }
   ],
   "source": [
    "Newton(60,3,6)"
   ]
  },
  {
   "cell_type": "markdown",
   "metadata": {},
   "source": [
    " #  ***8. Simple Harmonic Motion***\n",
    "\n",
    " "
   ]
  },
  {
   "cell_type": "markdown",
   "metadata": {},
   "source": [
    "**A spring constant(K=200N/m)with a mass of 1kg attached to it undergoing simple harmonic motion.Calculatethe a)Period b)Frequency c)Angular frequency**"
   ]
  },
  {
   "cell_type": "code",
   "execution_count": 78,
   "metadata": {},
   "outputs": [],
   "source": [
    "def SHM(constant,mass):\n",
    "    π=3.142\n",
    "    from math import sqrt\n",
    "    T=2*π*sqrt(mass/constant)\n",
    "    f=1/T\n",
    "    ω=2*π*f\n",
    "    print(\"The Time period, frequency and the angular frequency are: \")\n",
    "    return(T,f,ω)"
   ]
  },
  {
   "cell_type": "code",
   "execution_count": 79,
   "metadata": {},
   "outputs": [
    {
     "name": "stdout",
     "output_type": "stream",
     "text": [
      "The Time period, frequency and the angular frequency are: \n"
     ]
    },
    {
     "data": {
      "text/plain": [
       "(0.44434590129762647, 2.2504989853168285, 14.14213562373095)"
      ]
     },
     "execution_count": 79,
     "metadata": {},
     "output_type": "execute_result"
    }
   ],
   "source": [
    "SHM(200,1)"
   ]
  },
  {
   "cell_type": "markdown",
   "metadata": {},
   "source": [
    " #  ***9. Damped Oscillation***\n"
   ]
  },
  {
   "cell_type": "markdown",
   "metadata": {},
   "source": [
    "**Calculate the number of oscillation when the spring constant is K=7N/m and the damping constant b=3 and the mass is 0.75kg and if the time given is 1.55sec.**"
   ]
  },
  {
   "cell_type": "code",
   "execution_count": 80,
   "metadata": {},
   "outputs": [],
   "source": [
    "def damposc(constant,dc,mass,time):\n",
    "    from math import sqrt\n",
    "    π=3.142\n",
    "    ωo=sqrt((constant/mass)-((dc**2)/4*(mass**2)))\n",
    "    f=ωo/2*π\n",
    "    print(\"The number of oscillations are: \")\n",
    "    return(f)\n",
    "    "
   ]
  },
  {
   "cell_type": "code",
   "execution_count": 81,
   "metadata": {},
   "outputs": [
    {
     "name": "stdout",
     "output_type": "stream",
     "text": [
      "The number of oscillations are: \n"
     ]
    },
    {
     "data": {
      "text/plain": [
       "4.462223094233225"
      ]
     },
     "execution_count": 81,
     "metadata": {},
     "output_type": "execute_result"
    }
   ],
   "source": [
    "damposc(7,3,0.75,1.55)"
   ]
  },
  {
   "cell_type": "markdown",
   "metadata": {},
   "source": [
    " #  ***10. Wave motion***\n"
   ]
  },
  {
   "cell_type": "markdown",
   "metadata": {},
   "source": [
    "**A 5m long string with a mass of 0.5kg is plucked with a tension force of 300N.a)What is the linear density of the string b)Calculate the velocity of the mechanical wave of the string c)Find the frequency of the wave if it has the wavelength of 0.35m.**"
   ]
  },
  {
   "cell_type": "code",
   "execution_count": 82,
   "metadata": {},
   "outputs": [],
   "source": [
    "def wave(length,mass,Ft,wavelength):\n",
    "    from math import sqrt\n",
    "    d=mass/length\n",
    "    V=sqrt(Ft/d)\n",
    "    f=V/wavelength\n",
    "    print(\"The Linear Density,Velocity and the frequency of the mechanical wave are: \")\n",
    "    return(d,V,f)"
   ]
  },
  {
   "cell_type": "code",
   "execution_count": 83,
   "metadata": {},
   "outputs": [
    {
     "name": "stdout",
     "output_type": "stream",
     "text": [
      "The Linear Density,Velocity and the frequency of the mechanical wave are: \n"
     ]
    },
    {
     "data": {
      "text/plain": [
       "(0.1, 54.772255750516614, 156.49215928719033)"
      ]
     },
     "execution_count": 83,
     "metadata": {},
     "output_type": "execute_result"
    }
   ],
   "source": [
    "wave(5,0.5,300,0.35)"
   ]
  },
  {
   "cell_type": "markdown",
   "metadata": {},
   "source": [
    " #  ***Graph between displacement of wave and time***\n"
   ]
  },
  {
   "cell_type": "code",
   "execution_count": 84,
   "metadata": {},
   "outputs": [
    {
     "data": {
      "text/plain": [
       "<function matplotlib.pyplot.show(*args, **kw)>"
      ]
     },
     "execution_count": 84,
     "metadata": {},
     "output_type": "execute_result"
    },
    {
     "data": {
      "image/png": "[encoded data removed]",
      "text/plain": [
       "<Figure size 432x288 with 1 Axes>"
      ]
     },
     "metadata": {
      "needs_background": "light"
     },
     "output_type": "display_data"
    }
   ],
   "source": [
    "import numpy as np\n",
    "import matplotlib.pyplot as plt\n",
    "A=40\n",
    "w=3\n",
    "time=np.arange(40,100)\n",
    "k=A*(np.sin(w*time))\n",
    "plt.plot(time,k)\n",
    "plt.xlabel(\"Displacement\")\n",
    "plt.ylabel(\"Time\")\n",
    "plt.title(\"Displacement Time graph\")\n",
    "plt.show"
   ]
  },
  {
   "cell_type": "markdown",
   "metadata": {},
   "source": [
    " #  ***Graph between velocity and wavelength***\n"
   ]
  },
  {
   "cell_type": "code",
   "execution_count": 85,
   "metadata": {},
   "outputs": [
    {
     "data": {
      "image/png": "[encoded data removed]",
      "text/plain": [
       "<Figure size 432x288 with 1 Axes>"
      ]
     },
     "metadata": {
      "needs_background": "light"
     },
     "output_type": "display_data"
    }
   ],
   "source": [
    "import numpy as np\n",
    "import matplotlib.pyplot as plt\n",
    "frq=5\n",
    "velocity=np.arange(7,10)\n",
    "wavelength=velocity/frq\n",
    "plt.plot(velocity,wavelength,'r')\n",
    "plt.xlabel(\"Velocity\")\n",
    "plt.ylabel(\"Wavelength\")\n",
    "plt.title(\"Velocity Wavelength graph\")\n",
    "plt.show()"
   ]
  },
  {
   "cell_type": "markdown",
   "metadata": {},
   "source": [
    " #  ***11.Electric force***\n"
   ]
  },
  {
   "cell_type": "markdown",
   "metadata": {},
   "source": [
    "**The distance between the electron and proton of hydrogen atom is about 5.3×10^-11m.Compare electric and the gravitational forces between these two particles.**"
   ]
  },
  {
   "cell_type": "code",
   "execution_count": 86,
   "metadata": {},
   "outputs": [],
   "source": [
    "def compare(distance):\n",
    "    Me=9.1*10**-31\n",
    "    Mp=1.67*10**-27\n",
    "    Qe=1.6*10**-19\n",
    "    Qp=1.6*10**-19\n",
    "    K=9*10**9\n",
    "    G=6.67*10**-11\n",
    "    Fe=(K*Qe*Qp)/(distance**2)\n",
    "    Fg=(G*Me*Mp)/(distance**2)\n",
    "    F=Fe/Fg\n",
    "    print(\"the compairing value is:\")\n",
    "    return(F)\n"
   ]
  },
  {
   "cell_type": "code",
   "execution_count": 87,
   "metadata": {},
   "outputs": [
    {
     "name": "stdout",
     "output_type": "stream",
     "text": [
      "the compairing value is:\n"
     ]
    },
    {
     "data": {
      "text/plain": [
       "2.2729965542990175e+39"
      ]
     },
     "execution_count": 87,
     "metadata": {},
     "output_type": "execute_result"
    }
   ],
   "source": [
    "compare(5.3*10**-11)"
   ]
  },
  {
   "cell_type": "markdown",
   "metadata": {},
   "source": [
    " #  ***12. Electric Field***\n"
   ]
  },
  {
   "cell_type": "markdown",
   "metadata": {},
   "source": [
    "**Find the magnitude and direction of the electric field that will counter balance the gravitational force on a proton.**"
   ]
  },
  {
   "cell_type": "code",
   "execution_count": 88,
   "metadata": {},
   "outputs": [],
   "source": [
    "def electricfield(charge,massp):\n",
    "    print(\"According to the given condition:\")\n",
    "    print(\"\")\n",
    "    print(\"             Electric Field*charge=mass*gravity   \")\n",
    "    g=9.8\n",
    "    E=(massp*g)/charge\n",
    "    print(\"\")\n",
    "    print(\"The direction of the electric field is upward\")\n",
    "    print(\"\")\n",
    "    print(\"The value of the electric field is\")\n",
    "    return(E)"
   ]
  },
  {
   "cell_type": "code",
   "execution_count": 89,
   "metadata": {},
   "outputs": [
    {
     "name": "stdout",
     "output_type": "stream",
     "text": [
      "According to the given condition:\n",
      "\n",
      "             Electric Field*charge=mass*gravity   \n",
      "\n",
      "The direction of the electric field is upward\n",
      "\n",
      "The value of the electric field is\n"
     ]
    },
    {
     "data": {
      "text/plain": [
       "1.0228750000000001e-07"
      ]
     },
     "execution_count": 89,
     "metadata": {},
     "output_type": "execute_result"
    }
   ],
   "source": [
    "electricfield(1.6*10**-19,1.67*10**-27)"
   ]
  },
  {
   "cell_type": "markdown",
   "metadata": {},
   "source": [
    " #  ***13.  Capacitor***\n"
   ]
  },
  {
   "cell_type": "markdown",
   "metadata": {},
   "source": [
    "**The parallel plates of an air filled capacitor are 6 mm apart.What must the plate area be if the capacitance is 8 farad.** "
   ]
  },
  {
   "cell_type": "code",
   "execution_count": 90,
   "metadata": {},
   "outputs": [],
   "source": [
    "def capacitor(distance,cap):\n",
    "    ᶓ=8.85*10**-12\n",
    "    r=distance/1000\n",
    "    area=(cap*r)/ᶓ\n",
    "    print(\"The area is: \")\n",
    "    return(area)\n"
   ]
  },
  {
   "cell_type": "code",
   "execution_count": 91,
   "metadata": {},
   "outputs": [
    {
     "name": "stdout",
     "output_type": "stream",
     "text": [
      "The area is: \n"
     ]
    },
    {
     "data": {
      "text/plain": [
       "5423728813.559323"
      ]
     },
     "execution_count": 91,
     "metadata": {},
     "output_type": "execute_result"
    }
   ],
   "source": [
    "capacitor(6,8)"
   ]
  },
  {
   "cell_type": "markdown",
   "metadata": {},
   "source": [
    " #  ***14. Electric Current***\n"
   ]
  },
  {
   "cell_type": "markdown",
   "metadata": {},
   "source": [
    "**Three resistors are connected in parallel R1=3Ω,R2=6Ω and R3=3Ω with a battery of 13volts.Calculate the current accross each resistor and the total resistance.**"
   ]
  },
  {
   "cell_type": "code",
   "execution_count": 92,
   "metadata": {},
   "outputs": [],
   "source": [
    "def current(Res1,Res2,Res3,Volt):\n",
    "    R=((Res1)*(Res2)*(Res3))/((Res1)+(Res2)+(Res3))\n",
    "    I1=Volt/(Res1)\n",
    "    I2=Volt/(Res2)\n",
    "    I3=Volt/(Res3)\n",
    "    print(\"The total Resistance ,The current passes through R1,R2 and R3 are: \")\n",
    "    return(R,I1,I2,I3)"
   ]
  },
  {
   "cell_type": "code",
   "execution_count": 93,
   "metadata": {},
   "outputs": [
    {
     "name": "stdout",
     "output_type": "stream",
     "text": [
      "The total Resistance ,The current passes through R1,R2 and R3 are: \n"
     ]
    },
    {
     "data": {
      "text/plain": [
       "(4.5, 4.333333333333333, 2.1666666666666665, 4.333333333333333)"
      ]
     },
     "execution_count": 93,
     "metadata": {},
     "output_type": "execute_result"
    }
   ],
   "source": [
    "current(3,6,3,13)"
   ]
  },
  {
   "cell_type": "markdown",
   "metadata": {},
   "source": [
    " #  ***Graph between current and voltage***\n"
   ]
  },
  {
   "cell_type": "code",
   "execution_count": 94,
   "metadata": {},
   "outputs": [
    {
     "data": {
      "image/png": "[encoded data removed]",
      "text/plain": [
       "<Figure size 432x288 with 1 Axes>"
      ]
     },
     "metadata": {
      "needs_background": "light"
     },
     "output_type": "display_data"
    }
   ],
   "source": [
    "import numpy as np\n",
    "import matplotlib.pyplot as plt\n",
    "Resistance =7\n",
    "voltage=np.arange(45,90)\n",
    "I=voltage/Resistance\n",
    "plt.plot(voltage,I)\n",
    "plt.xlabel(\"Voltage\")\n",
    "plt.ylabel(\"Current\")\n",
    "plt.title(\"Voltage Current graph\")\n",
    "plt.show()"
   ]
  },
  {
   "cell_type": "markdown",
   "metadata": {},
   "source": [
    " #  ***15. Ohm's Law***\n"
   ]
  },
  {
   "cell_type": "markdown",
   "metadata": {},
   "source": [
    "**Calculate the equivalent resistance for the circuit which is connected to 25 volt battery and also find the potential difference across 6 Ω & 7 Ω resistors in the circuit.**"
   ]
  },
  {
   "cell_type": "code",
   "execution_count": 95,
   "metadata": {},
   "outputs": [],
   "source": [
    "def resistance(Res1,Res2,volt):\n",
    "    Rnet=Res1+Res2\n",
    "    I=volt/Rnet\n",
    "    Volt1=I*Res1\n",
    "    Volt2=I*Res2\n",
    "    print(\"The effective resistance, current in circuit, voltage across Res1 and voltage across R2 is given below: \")\n",
    "    return(Rnet,I,Volt1,Volt2)"
   ]
  },
  {
   "cell_type": "code",
   "execution_count": 96,
   "metadata": {},
   "outputs": [
    {
     "name": "stdout",
     "output_type": "stream",
     "text": [
      "The effective resistance, current in circuit, voltage across Res1 and voltage across R2 is given below: \n"
     ]
    },
    {
     "data": {
      "text/plain": [
       "(14, 1.7857142857142858, 10.714285714285715, 14.285714285714286)"
      ]
     },
     "execution_count": 96,
     "metadata": {},
     "output_type": "execute_result"
    }
   ],
   "source": [
    "resistance(6,8,25)"
   ]
  },
  {
   "cell_type": "code",
   "execution_count": null,
   "metadata": {},
   "outputs": [],
   "source": []
  }
 ],
 "metadata": {
  "kernelspec": {
   "display_name": "Python 3",
   "language": "python",
   "name": "python3"
  },
  "language_info": {
   "codemirror_mode": {
    "name": "ipython",
    "version": 3
   },
   "file_extension": ".py",
   "mimetype": "text/x-python",
   "name": "python",
   "nbconvert_exporter": "python",
   "pygments_lexer": "ipython3",
   "version": "3.8.3"
  }
 },
 "nbformat": 4,
 "nbformat_minor": 4
}
