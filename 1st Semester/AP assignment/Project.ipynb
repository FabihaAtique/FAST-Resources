{
 "cells": [
  {
   "cell_type": "markdown",
   "metadata": {},
   "source": [
    "# **Ohm's Law**\n"
   ]
  },
  {
   "cell_type": "markdown",
   "metadata": {},
   "source": [
    "**Q # 1:  Resistance of a material at 10ºC and 40ºC are 45 Ω and 85 Ω respectively. Find its temperature co-efficient of resistance.**"
   ]
  },
  {
   "cell_type": "code",
   "execution_count": 1,
   "metadata": {},
   "outputs": [],
   "source": [
    "def tcoefficient(T1,T2,R1,R2):\n",
    "    a = 1/R2 *(R2-R1) /(T2-T1)\n",
    "    print(\"the value of temprature cooefficient is:\")\n",
    "    return(a)"
   ]
  },
  {
   "cell_type": "code",
   "execution_count": 2,
   "metadata": {},
   "outputs": [
    {
     "name": "stdout",
     "output_type": "stream",
     "text": [
      "the value of temprature cooefficient is:\n"
     ]
    },
    {
     "data": {
      "text/plain": [
       "0.01568627450980392"
      ]
     },
     "execution_count": 2,
     "metadata": {},
     "output_type": "execute_result"
    }
   ],
   "source": [
    "tcoefficient(10,40,45,85)"
   ]
  },
  {
   "cell_type": "markdown",
   "metadata": {},
   "source": [
    "**Q # 2: Calculate the equivalent resistance for the circuit which is connected to 24 V battery and also find the potential difference across 4 Ω and 6 Ω resistors in the circuit.**"
   ]
  },
  {
   "cell_type": "code",
   "execution_count": 3,
   "metadata": {},
   "outputs": [],
   "source": [
    "def eqresistance(R1,R2,V):\n",
    "    Rnet=R1+R2\n",
    "    I=V/Rnet\n",
    "    V1=I*R1\n",
    "    V2=I*R2\n",
    "    print(\"The effictive resistance, Current in Circuit, Voltage across R1 and Voltage across R2 is given below\")\n",
    "    return(Rnet,I,V1,V2)\n",
    "    "
   ]
  },
  {
   "cell_type": "code",
   "execution_count": 4,
   "metadata": {},
   "outputs": [
    {
     "name": "stdout",
     "output_type": "stream",
     "text": [
      "The effictive resistance, Current in Circuit, Voltage across R1 and Voltage across R2 is given below\n"
     ]
    },
    {
     "data": {
      "text/plain": [
       "(10, 2.4, 9.6, 14.399999999999999)"
      ]
     },
     "execution_count": 4,
     "metadata": {},
     "output_type": "execute_result"
    }
   ],
   "source": [
    "eqresistance(4,6,24)"
   ]
  },
  {
   "cell_type": "markdown",
   "metadata": {},
   "source": [
    "# **Vectors**"
   ]
  },
  {
   "cell_type": "markdown",
   "metadata": {},
   "source": [
    "**Find the cross product of given Vectors:  X=i+2j and Y=4i+5j+6k ?**"
   ]
  },
  {
   "cell_type": "code",
   "execution_count": 5,
   "metadata": {},
   "outputs": [
    {
     "name": "stdout",
     "output_type": "stream",
     "text": [
      "The perpendicular vector of both the vectors is given by: \n"
     ]
    },
    {
     "data": {
      "text/plain": [
       "array([12, -6, -3])"
      ]
     },
     "execution_count": 5,
     "metadata": {},
     "output_type": "execute_result"
    }
   ],
   "source": [
    "import numpy as np\n",
    "x = [1, 2, 0]\n",
    "y = [4, 5, 6]\n",
    "print(\"The perpendicular vector of both the vectors is given by: \")\n",
    "np.cross(x, y)"
   ]
  },
  {
   "cell_type": "markdown",
   "metadata": {},
   "source": [
    "**Multiple vector cross-products. **"
   ]
  },
  {
   "cell_type": "code",
   "execution_count": 6,
   "metadata": {},
   "outputs": [
    {
     "name": "stdout",
     "output_type": "stream",
     "text": [
      "The perpendicular vectors of both the vectors is given by: \n"
     ]
    },
    {
     "data": {
      "text/plain": [
       "array([[-3,  6, -3],\n",
       "       [ 3, -6,  3]])"
      ]
     },
     "execution_count": 6,
     "metadata": {},
     "output_type": "execute_result"
    }
   ],
   "source": [
    "import numpy as np\n",
    "x = np.array([[1,2,3], [4,5,6]])\n",
    "y = np.array([[4,5,6], [1,2,3]])\n",
    "print(\"The perpendicular vectors of both the vectors is given by: \")\n",
    "np.cross(x, y)"
   ]
  },
  {
   "cell_type": "markdown",
   "metadata": {},
   "source": [
    "**Calculate the angle between two vectors A=0i+j+k and B=1i+0j+0k?**"
   ]
  },
  {
   "cell_type": "code",
   "execution_count": 7,
   "metadata": {},
   "outputs": [
    {
     "name": "stdout",
     "output_type": "stream",
     "text": [
      "1.5707963267948966\n"
     ]
    }
   ],
   "source": [
    "vector_1 = [0, 1]\n",
    "vector_2 = [1, 0]\n",
    "\n",
    "unit_vector_1 = vector_1 / np.linalg.norm(vector_1)\n",
    "unit_vector_2 = vector_2 / np.linalg.norm(vector_2)\n",
    "dot_product = np.dot(unit_vector_1, unit_vector_2)\n",
    "angle = np.arccos(dot_product)\n",
    "\n",
    "\n",
    "print(angle)"
   ]
  },
  {
   "cell_type": "markdown",
   "metadata": {},
   "source": [
    "#  Electric Force"
   ]
  },
  {
   "cell_type": "markdown",
   "metadata": {},
   "source": [
    "**Two charges, 5 C and 15 C are separated by 0.1 m. What is the force between\n",
    "them?**"
   ]
  },
  {
   "cell_type": "code",
   "execution_count": 8,
   "metadata": {},
   "outputs": [],
   "source": [
    "def electrostaticforce(Q,q,r):\n",
    "    k=9*10**9\n",
    "    v=(Q*q)/(r**r)\n",
    "    F=(k)*v\n",
    "    print(\"The electrostatic force is given by:\")\n",
    "    return(F)\n",
    "    "
   ]
  },
  {
   "cell_type": "code",
   "execution_count": 9,
   "metadata": {},
   "outputs": [
    {
     "name": "stdout",
     "output_type": "stream",
     "text": [
      "The electrostatic force is given by:\n"
     ]
    },
    {
     "data": {
      "text/plain": [
       "849774652961.0629"
      ]
     },
     "execution_count": 9,
     "metadata": {},
     "output_type": "execute_result"
    }
   ],
   "source": [
    "electrostaticforce(5,15,0.1)"
   ]
  },
  {
   "cell_type": "markdown",
   "metadata": {},
   "source": [
    "**What is the total charge of 75.0 kg of electrons?**"
   ]
  },
  {
   "cell_type": "code",
   "execution_count": 10,
   "metadata": {},
   "outputs": [],
   "source": [
    "def totalcharge(M):\n",
    "    me=9.11* 10**-31\n",
    "    N=M/me\n",
    "    e=-1.60*10**-19\n",
    "    Q=N*e\n",
    "    print(\"the total charge of N electrons is:\")\n",
    "    return(Q)"
   ]
  },
  {
   "cell_type": "code",
   "execution_count": 11,
   "metadata": {},
   "outputs": [
    {
     "name": "stdout",
     "output_type": "stream",
     "text": [
      "the total charge of N electrons is:\n"
     ]
    },
    {
     "data": {
      "text/plain": [
       "-13172338090010.977"
      ]
     },
     "execution_count": 11,
     "metadata": {},
     "output_type": "execute_result"
    }
   ],
   "source": [
    "totalcharge(75)"
   ]
  },
  {
   "cell_type": "markdown",
   "metadata": {},
   "source": [
    "# **Capacitors and Capitance**"
   ]
  },
  {
   "cell_type": "markdown",
   "metadata": {},
   "source": [
    "**A parallel plate capacitor has square plates of side 5 cm and separated by a distance of 1 mm. (a) Calculate the capacitance of this capacitor. (b) If a 10 V battery is connected to the capacitor, what is the charge stored in any one of the plates? (The value of εo = 8.85 x 10-12 Nm2 C-2)**"
   ]
  },
  {
   "cell_type": "code",
   "execution_count": 12,
   "metadata": {},
   "outputs": [],
   "source": [
    "def functiona(d,V):\n",
    "    C=(8.85*10**-12)*(25*10**-4)/d\n",
    "    Q=C*V\n",
    "    print(\"The capacitance of the capacitor is and the capacitance of the capacitor is\")\n",
    "    return(C,Q)\n",
    "    \n",
    "    "
   ]
  },
  {
   "cell_type": "code",
   "execution_count": 13,
   "metadata": {},
   "outputs": [
    {
     "name": "stdout",
     "output_type": "stream",
     "text": [
      "The capacitance of the capacitor is and the capacitance of the capacitor is\n"
     ]
    },
    {
     "data": {
      "text/plain": [
       "(2.2124999999999998e-11, 2.2124999999999999e-10)"
      ]
     },
     "execution_count": 13,
     "metadata": {},
     "output_type": "execute_result"
    }
   ],
   "source": [
    "functiona(0.001,10)"
   ]
  },
  {
   "cell_type": "markdown",
   "metadata": {},
   "source": [
    "**The parallel plates of an air filled capacitor are 9.0mm apart.What must the plate area be if the capacitance is 2 farad**"
   ]
  },
  {
   "cell_type": "code",
   "execution_count": 14,
   "metadata": {},
   "outputs": [],
   "source": [
    "def platearea(d,C):\n",
    "    ᶓ=8.85*10**-12\n",
    "    r=d/1000\n",
    "    A=(C*r)/ᶓ\n",
    "    print(\"The area between the plates is\")\n",
    "    return(A)\n"
   ]
  },
  {
   "cell_type": "code",
   "execution_count": 15,
   "metadata": {},
   "outputs": [
    {
     "name": "stdout",
     "output_type": "stream",
     "text": [
      "The area between the plates is\n"
     ]
    },
    {
     "data": {
      "text/plain": [
       "2033898305.084746"
      ]
     },
     "execution_count": 15,
     "metadata": {},
     "output_type": "execute_result"
    }
   ],
   "source": [
    "platearea(9.0,2)"
   ]
  },
  {
   "cell_type": "markdown",
   "metadata": {},
   "source": [
    "# Projectile"
   ]
  },
  {
   "cell_type": "markdown",
   "metadata": {},
   "source": [
    "**Finding the Height and Range of Projectile**"
   ]
  },
  {
   "cell_type": "code",
   "execution_count": 16,
   "metadata": {},
   "outputs": [
    {
     "name": "stdout",
     "output_type": "stream",
     "text": [
      "Enter the velocity7\n",
      "Enter the angle45\n",
      "(339.55267632578017, 169.77633816289008)\n"
     ]
    }
   ],
   "source": [
    "import numpy as np\n",
    "def SHM (v,angle):\n",
    "    g=9.8\n",
    "    theta=np.radians(angle)\n",
    "    H=((v**2)*(np.sin(theta))*2)/2*g\n",
    "    R=((v**2)*(np.sin(theta)))/2*g\n",
    "    return(H,R)\n",
    "print(SHM(v=int(input(\"Enter the velocity\")),angle=int(input(\"Enter the angle\"))))\n",
    "\n"
   ]
  },
  {
   "cell_type": "markdown",
   "metadata": {},
   "source": [
    "**Finding Displacement ,velocity and acceleration.**"
   ]
  },
  {
   "cell_type": "code",
   "execution_count": 17,
   "metadata": {},
   "outputs": [
    {
     "name": "stdout",
     "output_type": "stream",
     "text": [
      "Enter amplitude2\n",
      "Enter angular frequency2\n",
      "Enter phase constant2\n",
      "Enter time2\n",
      "(1.920340573300732, 1.1176619927957034, 7.681362293202928)\n"
     ]
    }
   ],
   "source": [
    "def SHM(Xm,w,O,t):\n",
    "    x=(Xm*(np.cos((w*t)+O)))\n",
    "    v=-(Xm*w*(np.sin(w*t+O)))\n",
    "    a=(Xm*w**2*(np.cos((w*t)+O)))\n",
    "    return(x,v,a)\n",
    "print(SHM(Xm=int(input(\"Enter amplitude\")),w=int(input(\"Enter angular frequency\")),O=int(input(\"Enter phase constant\")),t=int(input(\"Enter time\"))))"
   ]
  },
  {
   "cell_type": "code",
   "execution_count": 18,
   "metadata": {},
   "outputs": [],
   "source": [
    "import matplotlib.pyplot as plt\n",
    "import numpy as np\n",
    "def projectile(v,t):\n",
    "    g=9.8\n",
    "    theta=np.radians(t)\n",
    "    H=((v**2)*(np.sin(theta))*2)/2*g\n",
    "    R=((v**2)*(np.sin(theta*2)))/2*g\n",
    "    plt.plot(theta,R,'r',theta,H,'b')\n",
    "    plt.show()\n",
    "    \n",
    "    "
   ]
  },
  {
   "cell_type": "code",
   "execution_count": 19,
   "metadata": {},
   "outputs": [
    {
     "data": {
      "image/png": "[encoded data removed]",
      "text/plain": [
       "<Figure size 432x288 with 1 Axes>"
      ]
     },
     "metadata": {
      "needs_background": "light"
     },
     "output_type": "display_data"
    }
   ],
   "source": [
    "projectile(30,range(1,360))"
   ]
  },
  {
   "cell_type": "markdown",
   "metadata": {},
   "source": [
    "# Motion in 1d"
   ]
  },
  {
   "cell_type": "markdown",
   "metadata": {},
   "source": [
    "**An object moves with a constant velocity of 15 m/s. (a) How far will it travel in 2.0 s? (b) If the time is doubled, how far will it travel?**"
   ]
  },
  {
   "cell_type": "code",
   "execution_count": 22,
   "metadata": {},
   "outputs": [],
   "source": [
    "def displacement(v,t):\n",
    "    d=v*t\n",
    "    print(\"Displacement is\")\n",
    "    return (d)"
   ]
  },
  {
   "cell_type": "code",
   "execution_count": 23,
   "metadata": {},
   "outputs": [
    {
     "name": "stdout",
     "output_type": "stream",
     "text": [
      "Displacement is\n"
     ]
    },
    {
     "data": {
      "text/plain": [
       "30"
      ]
     },
     "execution_count": 23,
     "metadata": {},
     "output_type": "execute_result"
    }
   ],
   "source": [
    "displacement(15,2)"
   ]
  },
  {
   "cell_type": "code",
   "execution_count": 24,
   "metadata": {},
   "outputs": [],
   "source": [
    "def acceleration(vf,vi,t):\n",
    "    a=(vf-vi)/t\n",
    "    d=(vf+vi)/2*t\n",
    "    print(\"Acceleartion and displacement is\")\n",
    "    return (a,d)"
   ]
  },
  {
   "cell_type": "code",
   "execution_count": 25,
   "metadata": {},
   "outputs": [
    {
     "name": "stdout",
     "output_type": "stream",
     "text": [
      "Acceleartion and displacement is\n"
     ]
    },
    {
     "data": {
      "text/plain": [
       "(20.0, 80.0)"
      ]
     },
     "execution_count": 25,
     "metadata": {},
     "output_type": "execute_result"
    }
   ],
   "source": [
    "acceleration(60,20,2)"
   ]
  },
  {
   "cell_type": "markdown",
   "metadata": {},
   "source": [
    "# Simple Harmonic Motion\n",
    "**A force of 100N is applied to stretch a string with a 0.75kg mass attached to it by 0.95m. a) find thulare value of frequency b) what is the spring constant.**"
   ]
  },
  {
   "cell_type": "code",
   "execution_count": 26,
   "metadata": {},
   "outputs": [],
   "source": [
    "def SHM(F,m,x):\n",
    "    from math import sqrt\n",
    "    π=3.142\n",
    "    K=F/x\n",
    "    f=(1/(2*π))*sqrt(K/m)\n",
    "    print(\"The spring Constant and frequency are: \")\n",
    "    return(K,f)"
   ]
  },
  {
   "cell_type": "code",
   "execution_count": 27,
   "metadata": {},
   "outputs": [
    {
     "name": "stdout",
     "output_type": "stream",
     "text": [
      "The spring Constant and frequency are: \n"
     ]
    },
    {
     "data": {
      "text/plain": [
       "(105.26315789473685, 1.8852605912128977)"
      ]
     },
     "execution_count": 27,
     "metadata": {},
     "output_type": "execute_result"
    }
   ],
   "source": [
    "SHM(100,0.75,0.95)"
   ]
  },
  {
   "cell_type": "markdown",
   "metadata": {},
   "source": [
    "#  Wave motion."
   ]
  },
  {
   "cell_type": "markdown",
   "metadata": {},
   "source": [
    "**If the frequency of tuning fork is 400Hz and the velocity of sound in air is 320 m/s, find how far the sound travels while the tuning fork makes 30 vibrations.**"
   ]
  },
  {
   "cell_type": "code",
   "execution_count": 28,
   "metadata": {},
   "outputs": [],
   "source": [
    "def distance(f,v,N):\n",
    "## Frequency, n =  400Hz\n",
    "## velocity of sound, v = 320 m/s\n",
    "##  wavelength, λ = ?\n",
    "##  No. of vibration made = 30\n",
    "    ##as v=f*lembda\n",
    "    lembda=v/f\n",
    "    d=lembda*N\n",
    "    print(\"Distance is in meter given below\")\n",
    "    return(d)\n",
    "    "
   ]
  },
  {
   "cell_type": "code",
   "execution_count": 29,
   "metadata": {},
   "outputs": [
    {
     "name": "stdout",
     "output_type": "stream",
     "text": [
      "Distance is in meter given below\n"
     ]
    },
    {
     "data": {
      "text/plain": [
       "24.0"
      ]
     },
     "execution_count": 29,
     "metadata": {},
     "output_type": "execute_result"
    }
   ],
   "source": [
    "distance(400,320,30)"
   ]
  },
  {
   "cell_type": "code",
   "execution_count": 41,
   "metadata": {},
   "outputs": [
    {
     "data": {
      "text/plain": [
       "<function matplotlib.pyplot.show(*args, **kw)>"
      ]
     },
     "execution_count": 41,
     "metadata": {},
     "output_type": "execute_result"
    },
    {
     "data": {
      "image/png": "[encoded data removed]",
      "text/plain": [
       "<Figure size 432x288 with 1 Axes>"
      ]
     },
     "metadata": {
      "needs_background": "light"
     },
     "output_type": "display_data"
    }
   ],
   "source": [
    "import numpy as np\n",
    "import matplotlib.pyplot as plt\n",
    "A=10\n",
    "w=3\n",
    "t=np.arange(25,45)\n",
    "k=A*(np.sin(w*t))\n",
    "plt.plot(t,k)\n",
    "plt.show"
   ]
  },
  {
   "cell_type": "markdown",
   "metadata": {},
   "source": [
    "# Electric Current"
   ]
  },
  {
   "cell_type": "markdown",
   "metadata": {},
   "source": [
    "**Lightning is very good example of natural current. In typical lightning, there is 109 J energy transfer across the potential difference of 5 × 107 V during a time interval of 0.2 s.**"
   ]
  },
  {
   "cell_type": "code",
   "execution_count": 42,
   "metadata": {},
   "outputs": [],
   "source": [
    "def functionaa(U,V,t,p):\n",
    "    q=U/V\n",
    "    I=q/t\n",
    "    p=V*I\n",
    "    print(\"The charge Current and power are given below:\")\n",
    "    return(q,I,p)\n",
    "    "
   ]
  },
  {
   "cell_type": "code",
   "execution_count": 43,
   "metadata": {},
   "outputs": [
    {
     "name": "stdout",
     "output_type": "stream",
     "text": [
      "The charge Current and power are given below:\n"
     ]
    },
    {
     "data": {
      "text/plain": [
       "(20.0, 100.0, 5000000000.0)"
      ]
     },
     "execution_count": 43,
     "metadata": {},
     "output_type": "execute_result"
    }
   ],
   "source": [
    "functionaa(10**9,(5*10**7),0.2,2)"
   ]
  },
  {
   "cell_type": "markdown",
   "metadata": {},
   "source": [
    "# Unifrom Circular Motion"
   ]
  },
  {
   "cell_type": "markdown",
   "metadata": {},
   "source": [
    "**An object that moves in a circular motion has a centripretal acceleration of 1 ms/2. if the radius of the motion i s 0.02m, what is the frequency of the motion.**"
   ]
  },
  {
   "cell_type": "code",
   "execution_count": 105,
   "metadata": {},
   "outputs": [],
   "source": [
    "def frequency(a,r):\n",
    "    v=(a*r)**(1/2)\n",
    "    T=(2*3.14*r)/v\n",
    "    f=1/T\n",
    "    print(\"Frequency time period and velocity are given below:\")\n",
    "    return(f,T,v)\n",
    "    "
   ]
  },
  {
   "cell_type": "code",
   "execution_count": 106,
   "metadata": {},
   "outputs": [
    {
     "name": "stdout",
     "output_type": "stream",
     "text": [
      "Frequency time period and velocity are given below:\n"
     ]
    },
    {
     "data": {
      "text/plain": [
       "(4.059728912096166, 0.24632186573355916, 0.5099019513592785)"
      ]
     },
     "execution_count": 106,
     "metadata": {},
     "output_type": "execute_result"
    }
   ],
   "source": [
    "frequency(13,0.02)"
   ]
  },
  {
   "cell_type": "markdown",
   "metadata": {},
   "source": [
    "# Possible Graphs related to Syllabus"
   ]
  },
  {
   "cell_type": "code",
   "execution_count": null,
   "metadata": {},
   "outputs": [],
   "source": []
  },
  {
   "cell_type": "code",
   "execution_count": 107,
   "metadata": {},
   "outputs": [
    {
     "data": {
      "image/png": "[encoded data removed]",
      "text/plain": [
       "<Figure size 432x288 with 1 Axes>"
      ]
     },
     "metadata": {
      "needs_background": "light"
     },
     "output_type": "display_data"
    }
   ],
   "source": [
    "from pylab import *\n",
    "t = linspace(0, 10*pi, 1000)\n",
    "z = sin(t)*exp(-t/10)\n",
    "plot(t,z,'b-')\n",
    "title(\"Here is the Graph\")\n",
    "xlabel(\"time\")\n",
    "ylabel(\"displacement\")\n",
    "show() "
   ]
  },
  {
   "cell_type": "code",
   "execution_count": 108,
   "metadata": {},
   "outputs": [
    {
     "data": {
      "text/plain": [
       "(-2.9405369056407054, 0.14983070743166815)"
      ]
     },
     "execution_count": 108,
     "metadata": {},
     "output_type": "execute_result"
    },
    {
     "data": {
      "image/png": "[encoded data removed]",
      "text/plain": [
       "<Figure size 432x288 with 1 Axes>"
      ]
     },
     "metadata": {
      "needs_background": "light"
     },
     "output_type": "display_data"
    }
   ],
   "source": [
    "import matplotlib.pyplot as plt\n",
    "import numpy\n",
    "\n",
    "r_data = numpy.linspace(1, 50)\n",
    "\n",
    "def V(ru):\n",
    "    rm = 2**(1/6)\n",
    "    return ((rm/ru)**0.5)-(2*((rm/ru)**6))\n",
    "\n",
    "v_data = numpy.linspace(V(1), V(50))\n",
    "\n",
    "plt.plot(r_data, v_data)\n",
    "plt.xlim(1, 50)\n",
    "plt.ylim(V(1), V(50))"
   ]
  },
  {
   "cell_type": "code",
   "execution_count": null,
   "metadata": {},
   "outputs": [],
   "source": []
  },
  {
   "cell_type": "code",
   "execution_count": null,
   "metadata": {},
   "outputs": [],
   "source": []
  },
  {
   "cell_type": "code",
   "execution_count": null,
   "metadata": {},
   "outputs": [],
   "source": []
  },
  {
   "cell_type": "code",
   "execution_count": null,
   "metadata": {},
   "outputs": [],
   "source": []
  }
 ],
 "metadata": {
  "kernelspec": {
   "display_name": "Python 3",
   "language": "python",
   "name": "python3"
  },
  "language_info": {
   "codemirror_mode": {
    "name": "ipython",
    "version": 3
   },
   "file_extension": ".py",
   "mimetype": "text/x-python",
   "name": "python",
   "nbconvert_exporter": "python",
   "pygments_lexer": "ipython3",
   "version": "3.8.3"
  }
 },
 "nbformat": 4,
 "nbformat_minor": 4
}
