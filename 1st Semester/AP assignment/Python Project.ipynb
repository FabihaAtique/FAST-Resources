{
 "cells": [
  {
   "cell_type": "markdown",
   "metadata": {},
   "source": [
    "**OHM'S LAW**\n",
    "\n",
    "**QUESTION:1** \n",
    "**A 40 ohm resistor is to be wound from platinum wire o.1mm in diameter.How much wire is needed?**\n"
   ]
  },
  {
   "cell_type": "code",
   "execution_count": 129,
   "metadata": {},
   "outputs": [],
   "source": [
    "def ohm(R,d):\n",
    "    dm=d/1000\n",
    "    r=dm/2\n",
    "    ʃ=11*10**-8\n",
    "    π=3.142\n",
    "    A=π*r**2\n",
    "    L=A*R/ʃ\n",
    "    print(\"The length of the wire is:\")\n",
    "    return(L)\n"
   ]
  },
  {
   "cell_type": "code",
   "execution_count": 130,
   "metadata": {},
   "outputs": [
    {
     "name": "stdout",
     "output_type": "stream",
     "text": [
      "The length of the wire is:\n"
     ]
    },
    {
     "data": {
      "text/plain": [
       "2.856363636363636"
      ]
     },
     "execution_count": 130,
     "metadata": {},
     "output_type": "execute_result"
    }
   ],
   "source": [
    "ohm(40,0.1)"
   ]
  },
  {
   "cell_type": "markdown",
   "metadata": {},
   "source": [
    "**QUESTION:2 A silver wire 2m long is to have a resistance of 0.5ohm. What should its diameter be?**"
   ]
  },
  {
   "cell_type": "code",
   "execution_count": 131,
   "metadata": {},
   "outputs": [],
   "source": [
    "def ohm(L,R):\n",
    "    ʃ=1.52*10**-8\n",
    "    π=3.142\n",
    "    from math import sqrt\n",
    "    y=sqrt((L*ʃ)/(R*π))\n",
    "    print(\"The required diameter is:\")\n",
    "    r=(y)*2\n",
    "    return(r)"
   ]
  },
  {
   "cell_type": "code",
   "execution_count": 132,
   "metadata": {},
   "outputs": [
    {
     "name": "stdout",
     "output_type": "stream",
     "text": [
      "The required diameter is:\n"
     ]
    },
    {
     "data": {
      "text/plain": [
       "0.00027821381718256226"
      ]
     },
     "execution_count": 132,
     "metadata": {},
     "output_type": "execute_result"
    }
   ],
   "source": [
    "ohm(2,0.5)"
   ]
  },
  {
   "cell_type": "markdown",
   "metadata": {},
   "source": [
    "**VECTORS**\n",
    "\n",
    "**QUESTION:1 A=3i-j-4k,B=-2i+4j-3k and C=i+2j-k,\n",
    "Find a)2A-B+3C b)|A+B+C| c)|3A-2B+4C|**"
   ]
  },
  {
   "cell_type": "code",
   "execution_count": 133,
   "metadata": {},
   "outputs": [],
   "source": [
    "import numpy as np\n",
    "def vector():\n",
    "    A=np.array([3,-1,-4])\n",
    "    B=np.array([-2,4,-3])\n",
    "    C=np.array([1,2,-1])\n",
    "    V1=((2*A)-B+(3*C))\n",
    "    V2=np.linalg.norm(A+B+C)\n",
    "    V3=np.linalg.norm((3*A)-(2*B)+(4*C))\n",
    "    print(\"The answers of part a,b and c parts are:\")\n",
    "    return(V1,V2,V3)\n"
   ]
  },
  {
   "cell_type": "code",
   "execution_count": 134,
   "metadata": {},
   "outputs": [
    {
     "name": "stdout",
     "output_type": "stream",
     "text": [
      "The answers of part a,b and c parts are:\n"
     ]
    },
    {
     "data": {
      "text/plain": [
       "(array([11,  0, -8]), 9.643650760992955, 19.949937343260004)"
      ]
     },
     "execution_count": 134,
     "metadata": {},
     "output_type": "execute_result"
    }
   ],
   "source": [
    "vector()"
   ]
  },
  {
   "cell_type": "markdown",
   "metadata": {},
   "source": [
    "**QUESTION:2 The position vectors P and Q are given by P=2i+3j-k,Q=4i-3j+2k.Determine PQ vector and its magnitude**"
   ]
  },
  {
   "cell_type": "code",
   "execution_count": 135,
   "metadata": {},
   "outputs": [],
   "source": [
    "def position():\n",
    "    P=np.array([2,3,-1])\n",
    "    Q=np.array([4,-3,+2])\n",
    "    r=Q-P\n",
    "    magr=np.linalg.norm(r)\n",
    "    print(\"The vector and its magnitude are: \")\n",
    "    return(r,magr)"
   ]
  },
  {
   "cell_type": "code",
   "execution_count": 136,
   "metadata": {},
   "outputs": [
    {
     "name": "stdout",
     "output_type": "stream",
     "text": [
      "The vector and its magnitude are: \n"
     ]
    },
    {
     "data": {
      "text/plain": [
       "(array([ 2, -6,  3]), 7.0)"
      ]
     },
     "execution_count": 136,
     "metadata": {},
     "output_type": "execute_result"
    }
   ],
   "source": [
    "position()"
   ]
  },
  {
   "cell_type": "markdown",
   "metadata": {},
   "source": [
    "**DOT AND CROSS PRODUCT**\n",
    "\n",
    "**QUESTION:1 Calculate the angle between two vectors A=2i+2j-3k and B=4i+3j+5k**"
   ]
  },
  {
   "cell_type": "code",
   "execution_count": 137,
   "metadata": {},
   "outputs": [],
   "source": [
    "import numpy as np\n",
    "def angle():\n",
    "    A=np.array([2,2,-3])\n",
    "    B=np.array([4,3,5])\n",
    "    magA=np.linalg.norm(A)\n",
    "    magB=np.linalg.norm(B)\n",
    "    dotAB=A.dot(B)\n",
    "    RmagAB=magA*magB\n",
    "    y=(dotAB)/(RmagAB)\n",
    "    t=np.arccos(y)\n",
    "    Theta=np.degrees(t)\n",
    "    print(\"The angle between two vectors is angle by:\")\n",
    "    return(Theta)"
   ]
  },
  {
   "cell_type": "code",
   "execution_count": 138,
   "metadata": {},
   "outputs": [
    {
     "name": "stdout",
     "output_type": "stream",
     "text": [
      "The angle between two vectors is angle by:\n"
     ]
    },
    {
     "data": {
      "text/plain": [
       "91.9656145673965"
      ]
     },
     "execution_count": 138,
     "metadata": {},
     "output_type": "execute_result"
    }
   ],
   "source": [
    "angle()"
   ]
  },
  {
   "cell_type": "markdown",
   "metadata": {},
   "source": [
    "**QUESTION:2 Find the vector perpendicular to the two vectors A=3i+4j+2k and B=2i-j+k.**"
   ]
  },
  {
   "cell_type": "code",
   "execution_count": 139,
   "metadata": {},
   "outputs": [],
   "source": [
    "import numpy as np\n",
    "def cross():\n",
    "    A=np.array([3,4,2])\n",
    "    B=np.array([2,-1,1])\n",
    "    C=np.cross(A,B)\n",
    "    print(\"The vector perpendicular to the two vectors is given by:\")\n",
    "    return(C)"
   ]
  },
  {
   "cell_type": "code",
   "execution_count": 140,
   "metadata": {},
   "outputs": [
    {
     "name": "stdout",
     "output_type": "stream",
     "text": [
      "The vector perpendicular to the two vectors is given by:\n"
     ]
    },
    {
     "data": {
      "text/plain": [
       "array([  6,   1, -11])"
      ]
     },
     "execution_count": 140,
     "metadata": {},
     "output_type": "execute_result"
    }
   ],
   "source": [
    "cross()"
   ]
  },
  {
   "cell_type": "markdown",
   "metadata": {},
   "source": [
    "**ELECTRIC FORCE**\n",
    "\n",
    "**QUESTION:1 Two point charges of 1×10^-4 and -1×10^-4 coul are placed at a distance of 40cm from each other.A charge 6×10^-5 coul is placed midway between them.What is the magnitude and direction of force on it.**"
   ]
  },
  {
   "cell_type": "code",
   "execution_count": 141,
   "metadata": {},
   "outputs": [],
   "source": [
    "def force(Q1,Q2,Q3):\n",
    "    r=40/100\n",
    "    r1=r/2\n",
    "    r2=r/2\n",
    "    K=9*10**9\n",
    "    Q1=1*10**-4\n",
    "    Q2=1*10**-4\n",
    "    Q3=6*10**-5\n",
    "    F1=(K*Q1*Q3)/((r1)**2)\n",
    "    F2=(K*Q2*Q3)/((r2)**2)\n",
    "    from math import sqrt\n",
    "    Fnet=F1+F2\n",
    "    print(\"The direction is towards negative charge\")\n",
    "    print(\"The net force is:\")\n",
    "    return(Fnet)    "
   ]
  },
  {
   "cell_type": "code",
   "execution_count": 142,
   "metadata": {},
   "outputs": [
    {
     "name": "stdout",
     "output_type": "stream",
     "text": [
      "The direction is towards negative charge\n",
      "The net force is:\n"
     ]
    },
    {
     "data": {
      "text/plain": [
       "2700.0"
      ]
     },
     "execution_count": 142,
     "metadata": {},
     "output_type": "execute_result"
    }
   ],
   "source": [
    "force(1*10**-4,1*10**-4,6*10**-5)"
   ]
  },
  {
   "cell_type": "markdown",
   "metadata": {},
   "source": [
    "**QUESTION:2 The distance between the electron and proton of hydrogen atom is about 5.3×10^-11m.Compare electric and the gravitational forces between these two particles.**"
   ]
  },
  {
   "cell_type": "code",
   "execution_count": 143,
   "metadata": {},
   "outputs": [],
   "source": [
    "def compare(r):\n",
    "    Me=9.1*10**-31\n",
    "    Mp=1.67*10**-27\n",
    "    Qe=1.6*10**-19\n",
    "    Qp=1.6*10**-19\n",
    "    K=9*10**9\n",
    "    G=6.67*10**-11\n",
    "    Fe=(K*Qe*Qp)/(r**2)\n",
    "    Fg=(G*Me*Mp)/(r**2)\n",
    "    F=Fe/Fg\n",
    "    print(\"the compairing value is:\")\n",
    "    return(F)\n"
   ]
  },
  {
   "cell_type": "code",
   "execution_count": 144,
   "metadata": {},
   "outputs": [
    {
     "name": "stdout",
     "output_type": "stream",
     "text": [
      "the compairing value is:\n"
     ]
    },
    {
     "data": {
      "text/plain": [
       "2.2729965542990175e+39"
      ]
     },
     "execution_count": 144,
     "metadata": {},
     "output_type": "execute_result"
    }
   ],
   "source": [
    "compare(5.3*10**-11)"
   ]
  },
  {
   "cell_type": "markdown",
   "metadata": {},
   "source": [
    "**ELECTRIC FIELD**\n",
    "\n",
    "**QUESTION:1 Find the electric intensity midway between the charges 1.67×10^-7 coul and 1.67×10^-7 coul seperated by a distance of 60cm**"
   ]
  },
  {
   "cell_type": "code",
   "execution_count": 145,
   "metadata": {},
   "outputs": [],
   "source": [
    "def field(Q1,Q2,d):\n",
    "    d1=d/100\n",
    "    r=d1/2\n",
    "    K=9*10**9\n",
    "    E1=(K*Q1)/(r**2)\n",
    "    E2=(K*Q2)/(r**2)\n",
    "    E=E1+E2\n",
    "    print(\"The total Electric field or intensity is:\")\n",
    "    return(E)\n",
    "    "
   ]
  },
  {
   "cell_type": "code",
   "execution_count": 146,
   "metadata": {},
   "outputs": [
    {
     "name": "stdout",
     "output_type": "stream",
     "text": [
      "The total Electric field or intensity is:\n"
     ]
    },
    {
     "data": {
      "text/plain": [
       "33399.99999999999"
      ]
     },
     "execution_count": 146,
     "metadata": {},
     "output_type": "execute_result"
    }
   ],
   "source": [
    "field(1.67*10**-7,1.67*10**-7,60)"
   ]
  },
  {
   "cell_type": "markdown",
   "metadata": {},
   "source": [
    "**QUESTION:2 Find the magnitude and direction of the electric field that will counter balance the gravitational force on a proton.**"
   ]
  },
  {
   "cell_type": "code",
   "execution_count": 147,
   "metadata": {},
   "outputs": [],
   "source": [
    "def field(Q,M):\n",
    "    print(\"According to the givemncondition is:\")\n",
    "    print(\"\")\n",
    "    print(\"             E*Q=M*g   \")\n",
    "    g=9.8\n",
    "    E=(M*g)/Q\n",
    "    print(\"\")\n",
    "    print(\"The direction of the electric field is upward\")\n",
    "    print(\"\")\n",
    "    print(\"The value of the electric field is\")\n",
    "    return(E)"
   ]
  },
  {
   "cell_type": "code",
   "execution_count": 148,
   "metadata": {},
   "outputs": [
    {
     "name": "stdout",
     "output_type": "stream",
     "text": [
      "According to the givemncondition is:\n",
      "\n",
      "             E*Q=M*g   \n",
      "\n",
      "The direction of the electric field is upward\n",
      "\n",
      "The value of the electric field is\n"
     ]
    },
    {
     "data": {
      "text/plain": [
       "1.0228750000000001e-07"
      ]
     },
     "execution_count": 148,
     "metadata": {},
     "output_type": "execute_result"
    }
   ],
   "source": [
    "field(1.6*10**-19,1.67*10**-27)"
   ]
  },
  {
   "cell_type": "markdown",
   "metadata": {},
   "source": [
    "**CAPACITORS** \n",
    "\n",
    "**QUESTION:1Two capacitors C1 3µf and C2 6µf are in series accross a 90 volts d.c supply.Calculate the charges of C1 and C2 and the P.D accross each.**"
   ]
  },
  {
   "cell_type": "code",
   "execution_count": 149,
   "metadata": {},
   "outputs": [],
   "source": [
    "def capacitor(C1,C2,V):\n",
    "    C=(C1*C2)/(C1+C2)\n",
    "    print(\"The charges on C1 and C2 are the same and equal to q on C:\")\n",
    "    q=C*V\n",
    "    V1=q/C1\n",
    "    V2=q/C2\n",
    "    print(\"The charge of C1 and C2 ,Voltage of C1 and C2 are:\")\n",
    "    return(q,V1,V2)\n"
   ]
  },
  {
   "cell_type": "code",
   "execution_count": 150,
   "metadata": {},
   "outputs": [
    {
     "name": "stdout",
     "output_type": "stream",
     "text": [
      "The charges on C1 and C2 are the same and equal to q on C:\n",
      "The charge of C1 and C2 ,Voltage of C1 and C2 are:\n"
     ]
    },
    {
     "data": {
      "text/plain": [
       "(0.00018000000000000004, 60.000000000000014, 30.000000000000007)"
      ]
     },
     "execution_count": 150,
     "metadata": {},
     "output_type": "execute_result"
    }
   ],
   "source": [
    "capacitor(3*10**-6,6*10**-6,90)"
   ]
  },
  {
   "cell_type": "markdown",
   "metadata": {},
   "source": [
    "**QUESTION:2The parallel plates of an air filled capacitor are 1.0mm apart.What must the plate area be if the capacitance is 1 farad** "
   ]
  },
  {
   "cell_type": "code",
   "execution_count": 151,
   "metadata": {},
   "outputs": [],
   "source": [
    "def capacitor(d,C):\n",
    "    ᶓ=8.85*10**-12\n",
    "    r=d/1000\n",
    "    A=(C*r)/ᶓ\n",
    "    print(\"The area is\")\n",
    "    return(A)\n"
   ]
  },
  {
   "cell_type": "code",
   "execution_count": 152,
   "metadata": {},
   "outputs": [
    {
     "name": "stdout",
     "output_type": "stream",
     "text": [
      "The area is\n"
     ]
    },
    {
     "data": {
      "text/plain": [
       "112994350.28248589"
      ]
     },
     "execution_count": 152,
     "metadata": {},
     "output_type": "execute_result"
    }
   ],
   "source": [
    "capacitor(1.0,1)"
   ]
  },
  {
   "cell_type": "markdown",
   "metadata": {},
   "source": [
    "**PROJECTILE**\n",
    "\n",
    "**QUESTION:1Aparticle is projected from the surface of the earth with a speed of 20ms^-1 at an angle 30 with the horizontal.Determine the\n",
    "a) time of fligth\n",
    "b) range\n",
    "c) maximum height**"
   ]
  },
  {
   "cell_type": "code",
   "execution_count": 153,
   "metadata": {},
   "outputs": [],
   "source": [
    "import numpy as np\n",
    "def projectile(V,T):\n",
    "    g=9.8\n",
    "    theta=np.radians(T)\n",
    "    T=((2*V*(np.sin(theta)))/g)\n",
    "    R=(((V**2)*(np.sin(2*theta)))/g)\n",
    "    H=(((V**2)*((np.sin(theta))**2))/(2*g))\n",
    "    print(\"The time period,Range and the max Height are: \")\n",
    "    return(T,R,H)\n"
   ]
  },
  {
   "cell_type": "code",
   "execution_count": 154,
   "metadata": {},
   "outputs": [
    {
     "name": "stdout",
     "output_type": "stream",
     "text": [
      "The time period,Range and the max Height are: \n"
     ]
    },
    {
     "data": {
      "text/plain": [
       "(2.040816326530612, 35.34797566467096, 5.102040816326529)"
      ]
     },
     "execution_count": 154,
     "metadata": {},
     "output_type": "execute_result"
    }
   ],
   "source": [
    "projectile(20,30)"
   ]
  },
  {
   "cell_type": "markdown",
   "metadata": {},
   "source": [
    "**Projectile Motion**\n",
    "\n",
    "**Question 2: A mortar shell is fired at a ground level target 500 meter distance what an initial velocity of 90m/s . what is its launch angle?**"
   ]
  },
  {
   "cell_type": "code",
   "execution_count": 155,
   "metadata": {},
   "outputs": [],
   "source": [
    "import numpy as np \n",
    "def projectile(R,V):\n",
    "    g=9.8\n",
    "    theta=np.arcsin(((R*g)/V**2)/2)\n",
    "    t=np.degrees(theta)\n",
    "    print(\"The theta is: \")\n",
    "    return(t)"
   ]
  },
  {
   "cell_type": "code",
   "execution_count": 156,
   "metadata": {},
   "outputs": [
    {
     "name": "stdout",
     "output_type": "stream",
     "text": [
      "The theta is: \n"
     ]
    },
    {
     "data": {
      "text/plain": [
       "17.6059656653482"
      ]
     },
     "execution_count": 156,
     "metadata": {},
     "output_type": "execute_result"
    }
   ],
   "source": [
    "projectile(500,90)"
   ]
  },
  {
   "cell_type": "markdown",
   "metadata": {},
   "source": [
    "**1D MOTION**\n",
    "\n",
    "**QUESTION:1A bullet having a mass 0.005kg is moving witha speed of 100m/s.It penetrates into a bag of sand and is brought rest after moving 25cm. into the bag.Find the decelarating force on the bullet.Also caculate the time in which it is brought rest.**"
   ]
  },
  {
   "cell_type": "code",
   "execution_count": 157,
   "metadata": {},
   "outputs": [],
   "source": [
    "def Motion1D(m,Vi,d):\n",
    "    print(\"since the bullet be in rest after striking so Vf is zero\")\n",
    "    Vf=0\n",
    "    S=d/100\n",
    "    a=(((Vf**2)-(Vi**2))/(2*S))\n",
    "    F=m*a\n",
    "    print(\"The force is negative because the acceleration is negative:\")\n",
    "    print(\"The acceleration,Force and the time are: \")\n",
    "    t=((Vf-Vi)/a)\n",
    "    return(a,F,t)"
   ]
  },
  {
   "cell_type": "code",
   "execution_count": 158,
   "metadata": {},
   "outputs": [
    {
     "name": "stdout",
     "output_type": "stream",
     "text": [
      "since the bullet be in rest after striking so Vf is zero\n",
      "The force is negative because the acceleration is negative:\n",
      "The acceleration,Force and the time are: \n"
     ]
    },
    {
     "data": {
      "text/plain": [
       "(-20000.0, -100.0, 0.005)"
      ]
     },
     "execution_count": 158,
     "metadata": {},
     "output_type": "execute_result"
    }
   ],
   "source": [
    "Motion1D(0.005,100,25)"
   ]
  },
  {
   "cell_type": "markdown",
   "metadata": {},
   "source": [
    "**QUESTION:2Two bodies of masses 10.2kg and 4,5kg are attached to the ends of a string which over a frictionless pulley in such a way that the body of mass 10.2kg lies on a smooth horizontal surface and the other body hangs vertically.Find the acceleration of the bodies and the tension of string and also the force which the surface exerts on the bodty of mass 10.2kg.**"
   ]
  },
  {
   "cell_type": "code",
   "execution_count": 159,
   "metadata": {},
   "outputs": [
    {
     "name": "stdout",
     "output_type": "stream",
     "text": [
      "Mass of suspended body m1=4.9kg\n",
      "Mass of the body lying on the surface m2=10.2kg\n"
     ]
    }
   ],
   "source": [
    "print(\"Mass of suspended body m1=4.9kg\")\n",
    "print(\"Mass of the body lying on the surface m2=10.2kg\")\n",
    "def Motion1D(m1,m2):\n",
    "    g=9.8\n",
    "    a=(m1*g)/(m1+m2)\n",
    "    T=(m1*m2*g)/(m1+m2)\n",
    "    print(\"Since the body of the mass m2 does not move perpendicular to the surface on which it is placed ,hence:\")\n",
    "    print(\"Upward Force=downward force\")\n",
    "    R=m2*g\n",
    "    print(\"The acceleration and the Tension are: \")\n",
    "    return(a,T,R)\n",
    "    "
   ]
  },
  {
   "cell_type": "code",
   "execution_count": 160,
   "metadata": {},
   "outputs": [
    {
     "name": "stdout",
     "output_type": "stream",
     "text": [
      "Since the body of the mass m2 does not move perpendicular to the surface on which it is placed ,hence:\n",
      "Upward Force=downward force\n",
      "The acceleration and the Tension are: \n"
     ]
    },
    {
     "data": {
      "text/plain": [
       "(3.0000000000000004, 30.6, 99.96)"
      ]
     },
     "execution_count": 160,
     "metadata": {},
     "output_type": "execute_result"
    }
   ],
   "source": [
    "Motion1D(4.5,10.2)"
   ]
  },
  {
   "cell_type": "markdown",
   "metadata": {},
   "source": [
    "**SIMPLE HARMONIC MOTION**\n",
    "\n",
    "**QUESTION:1A spring constant(K=300N/m)with a mass of 0.75kg attached to it undergoing simple harmonic motion.Calculatethe a)Period b)Frequency c)Angular frequency**"
   ]
  },
  {
   "cell_type": "code",
   "execution_count": 161,
   "metadata": {},
   "outputs": [],
   "source": [
    "def SHM(K,m):\n",
    "    π=3.142\n",
    "    from math import sqrt\n",
    "    T=2*π*sqrt(m/K)\n",
    "    f=1/T\n",
    "    ω=2*π*f\n",
    "    print(\"The Time period, frequency and the angular frequency are: \")\n",
    "    return(T,f,ω)"
   ]
  },
  {
   "cell_type": "code",
   "execution_count": 162,
   "metadata": {},
   "outputs": [
    {
     "name": "stdout",
     "output_type": "stream",
     "text": [
      "The Time period, frequency and the angular frequency are: \n"
     ]
    },
    {
     "data": {
      "text/plain": [
       "(0.31420000000000003, 3.1826861871419476, 20.0)"
      ]
     },
     "execution_count": 162,
     "metadata": {},
     "output_type": "execute_result"
    }
   ],
   "source": [
    "SHM(300,0.75)"
   ]
  },
  {
   "cell_type": "markdown",
   "metadata": {},
   "source": [
    "**QUESTION:2A force of 500N is applied to stretch a string with a 0.5kg mass attached  to it by 0.35m. a) find thulare value of frequency b) what is the spring constant.**"
   ]
  },
  {
   "cell_type": "code",
   "execution_count": 163,
   "metadata": {},
   "outputs": [],
   "source": [
    "def SHM(F,m,x):\n",
    "    from math import sqrt\n",
    "    π=3.142\n",
    "    K=F/x\n",
    "    f=(1/(2*π))*sqrt(K/m)\n",
    "    print(\"The spring Constant and frequency are: \")\n",
    "    return(K,f)"
   ]
  },
  {
   "cell_type": "code",
   "execution_count": 164,
   "metadata": {},
   "outputs": [
    {
     "name": "stdout",
     "output_type": "stream",
     "text": [
      "The spring Constant and frequency are: \n"
     ]
    },
    {
     "data": {
      "text/plain": [
       "(1428.5714285714287, 8.506086629930758)"
      ]
     },
     "execution_count": 164,
     "metadata": {},
     "output_type": "execute_result"
    }
   ],
   "source": [
    "SHM(500,0.5,0.35)"
   ]
  },
  {
   "cell_type": "markdown",
   "metadata": {},
   "source": [
    "**WAVE MOTION**\n",
    "\n",
    "**QUESTION:1A mechanical wave moves in astring with a speed of 125m/s.If the frequency of the wave is 250Hz.What is the wavelength.**"
   ]
  },
  {
   "cell_type": "code",
   "execution_count": 165,
   "metadata": {},
   "outputs": [],
   "source": [
    "def wave(V,f):\n",
    "    λ=V/f\n",
    "    print(\"The wavelength is given by: \")\n",
    "    return(λ)"
   ]
  },
  {
   "cell_type": "code",
   "execution_count": 166,
   "metadata": {},
   "outputs": [
    {
     "name": "stdout",
     "output_type": "stream",
     "text": [
      "The wavelength is given by: \n"
     ]
    },
    {
     "data": {
      "text/plain": [
       "0.5"
      ]
     },
     "execution_count": 166,
     "metadata": {},
     "output_type": "execute_result"
    }
   ],
   "source": [
    "wave(125,250)"
   ]
  },
  {
   "cell_type": "markdown",
   "metadata": {},
   "source": [
    "**QUESTION:2A 2m long string with a mass of 0.10kg is plucked with a tension force of 500N.a)What is the linear density of the string b)Calculate the velocity of the mechanical wave of the string c)Find the frequency of the wave if it has the wavelength of 0.25m**"
   ]
  },
  {
   "cell_type": "code",
   "execution_count": 167,
   "metadata": {},
   "outputs": [],
   "source": [
    "def wave(L,m,Ft,λ):\n",
    "    from math import sqrt\n",
    "    d=m/L\n",
    "    V=sqrt(Ft/d)\n",
    "    f=V/λ\n",
    "    print(\"The Linear Density,Velocity and the frequency of the mechanical wave are: \")\n",
    "    return(d,V,f)"
   ]
  },
  {
   "cell_type": "code",
   "execution_count": 168,
   "metadata": {},
   "outputs": [
    {
     "name": "stdout",
     "output_type": "stream",
     "text": [
      "The Linear Density,Velocity and the frequency of the mechanical wave are: \n"
     ]
    },
    {
     "data": {
      "text/plain": [
       "(0.05, 100.0, 400.0)"
      ]
     },
     "execution_count": 168,
     "metadata": {},
     "output_type": "execute_result"
    }
   ],
   "source": [
    "wave(2,0.10,500,0.25)"
   ]
  },
  {
   "cell_type": "markdown",
   "metadata": {},
   "source": [
    "**ELECTRIC CURRENT**\n",
    "\n",
    "**QUESTION:1Three resistors R1=3Ω,R2=4Ω and R3=5Ω are connected in series with a battery of 60 volts.Calculate the net resistance and the current passes through each resistor. and also findout the voltage accross each resistor**"
   ]
  },
  {
   "cell_type": "code",
   "execution_count": 169,
   "metadata": {},
   "outputs": [],
   "source": [
    "def current(R1,R2,R3,V):\n",
    "    R=R1+R2+R3\n",
    "    I=V/R\n",
    "    I1=I\n",
    "    I2=I\n",
    "    I3=I\n",
    "    V1=(I1)*R1\n",
    "    V2=(I2)*R2\n",
    "    V3=(I3)*R3\n",
    "    print(\"The total resistance , The Current passes through each resistor and the voltage accross through R1,R2 and R3: \")\n",
    "    return(R,I,V1,V2,V3)"
   ]
  },
  {
   "cell_type": "code",
   "execution_count": 170,
   "metadata": {},
   "outputs": [
    {
     "name": "stdout",
     "output_type": "stream",
     "text": [
      "The total resistance , The Current passes through each resistor and the voltage accross through R1,R2 and R3: \n"
     ]
    },
    {
     "data": {
      "text/plain": [
       "(12, 5.0, 15.0, 20.0, 25.0)"
      ]
     },
     "execution_count": 170,
     "metadata": {},
     "output_type": "execute_result"
    }
   ],
   "source": [
    "current(3,4,5,60)"
   ]
  },
  {
   "cell_type": "markdown",
   "metadata": {},
   "source": [
    "**QUESTION:2Three resistors are connected in parallel R1=4Ω,R2=5Ω and R3=10Ω with a battery of 16volts.Calculate the current accross each resistor and the total resistance.**"
   ]
  },
  {
   "cell_type": "code",
   "execution_count": 171,
   "metadata": {},
   "outputs": [],
   "source": [
    "def current(R1,R2,R3,V):\n",
    "    R=((R1)*(R2)*(R3))/((R1)+(R2)+(R3))\n",
    "    I1=V/(R1)\n",
    "    I2=V/(R2)\n",
    "    I3=V/(R3)\n",
    "    print(\"The total Resistance ,The current passes through R1,R2 and R3 are: \")\n",
    "    return(R,I1,I2,I3)"
   ]
  },
  {
   "cell_type": "code",
   "execution_count": 172,
   "metadata": {},
   "outputs": [
    {
     "name": "stdout",
     "output_type": "stream",
     "text": [
      "The total Resistance ,The current passes through R1,R2 and R3 are: \n"
     ]
    },
    {
     "data": {
      "text/plain": [
       "(10.526315789473685, 4.0, 3.2, 1.6)"
      ]
     },
     "execution_count": 172,
     "metadata": {},
     "output_type": "execute_result"
    }
   ],
   "source": [
    "current(4,5,10,16)"
   ]
  },
  {
   "cell_type": "markdown",
   "metadata": {},
   "source": [
    "**MOTION IN 2D**\n",
    "\n",
    "**QUESTION:1A ball rolls horizontal oof a cliff at a speed of 30m/s.It takes 7 seconds for the ball to hit the ground.Calculate the height of the cliff and the vertical distance travelled by the ball.**"
   ]
  },
  {
   "cell_type": "code",
   "execution_count": 173,
   "metadata": {},
   "outputs": [],
   "source": [
    "def motion2D(Vx,t):\n",
    "    g=9.8\n",
    "    H=(1/2)*g*(t**2)\n",
    "    dy=(1/2)*(-g)*(t**2)\n",
    "    print(\"The Height of the cliff and the vertical distance covered are: \")\n",
    "    return(H,dy)"
   ]
  },
  {
   "cell_type": "code",
   "execution_count": 174,
   "metadata": {},
   "outputs": [
    {
     "name": "stdout",
     "output_type": "stream",
     "text": [
      "The Height of the cliff and the vertical distance covered are: \n"
     ]
    },
    {
     "data": {
      "text/plain": [
       "(240.10000000000002, -240.10000000000002)"
      ]
     },
     "execution_count": 174,
     "metadata": {},
     "output_type": "execute_result"
    }
   ],
   "source": [
    "motion2D(30,7)"
   ]
  },
  {
   "cell_type": "markdown",
   "metadata": {},
   "source": [
    "**QUESTION:2A ball rolls off a building that is 100m high.Calculate the time that it takes for the ball to hit the ground.**"
   ]
  },
  {
   "cell_type": "code",
   "execution_count": 175,
   "metadata": {},
   "outputs": [],
   "source": [
    "def motion2D(d):\n",
    "    H=-d\n",
    "    g=-9.8\n",
    "    from math import sqrt\n",
    "    t=sqrt((2*H)/g)\n",
    "    print(\"The time is: \")\n",
    "    return(t)"
   ]
  },
  {
   "cell_type": "code",
   "execution_count": 176,
   "metadata": {},
   "outputs": [
    {
     "name": "stdout",
     "output_type": "stream",
     "text": [
      "The time is: \n"
     ]
    },
    {
     "data": {
      "text/plain": [
       "4.5175395145262565"
      ]
     },
     "execution_count": 176,
     "metadata": {},
     "output_type": "execute_result"
    }
   ],
   "source": [
    "motion2D(100)"
   ]
  },
  {
   "cell_type": "markdown",
   "metadata": {},
   "source": [
    "**UNIFORM CIRCULAR MOTION**\n",
    "\n",
    "**QUESTION:1A 2kg moves in a cirle of radius 10m.It takes 20 revolution every 4 seconds.What is the a)frequency b)Period c)Centripetal Acceleration d)Centripetal Force e)speed**"
   ]
  },
  {
   "cell_type": "code",
   "execution_count": 177,
   "metadata": {},
   "outputs": [],
   "source": [
    "def CircularMotion(m,r,rev,t):\n",
    "    π=3.142\n",
    "    f=rev/t\n",
    "    T=1/f\n",
    "    Ac=(4*(π**2)*r)/(T*2)\n",
    "    Fc=m*(Ac)\n",
    "    from math import sqrt\n",
    "    V=sqrt((Ac)*r)\n",
    "    print(\"The frequency,Time period,Centripetal Acceleration,Centripetal Force and Velocity are: \")\n",
    "    return(f,T,Ac,Fc,V)"
   ]
  },
  {
   "cell_type": "code",
   "execution_count": 178,
   "metadata": {},
   "outputs": [
    {
     "name": "stdout",
     "output_type": "stream",
     "text": [
      "The frequency,Time period,Centripetal Acceleration,Centripetal Force and Velocity are: \n"
     ]
    },
    {
     "data": {
      "text/plain": [
       "(5.0, 0.2, 987.2163999999999, 1974.4327999999998, 99.35876408249047)"
      ]
     },
     "execution_count": 178,
     "metadata": {},
     "output_type": "execute_result"
    }
   ],
   "source": [
    "CircularMotion(2,10,20,4)"
   ]
  },
  {
   "cell_type": "markdown",
   "metadata": {},
   "source": [
    "**QUESTION:2A plane moving at 400m/s makes a circle turn of radius 3km.What is centripetal acceleration?**"
   ]
  },
  {
   "cell_type": "code",
   "execution_count": 179,
   "metadata": {},
   "outputs": [],
   "source": [
    "def CircularMotion(V,d):\n",
    "    r=d*1000\n",
    "    Ac=(V**2)/r\n",
    "    print(\"The Centripetal Acceleration is:\")\n",
    "    return(Ac)"
   ]
  },
  {
   "cell_type": "code",
   "execution_count": 180,
   "metadata": {},
   "outputs": [
    {
     "name": "stdout",
     "output_type": "stream",
     "text": [
      "The Centripetal Acceleration is:\n"
     ]
    },
    {
     "data": {
      "text/plain": [
       "53.333333333333336"
      ]
     },
     "execution_count": 180,
     "metadata": {},
     "output_type": "execute_result"
    }
   ],
   "source": [
    "CircularMotion(400,3)"
   ]
  },
  {
   "cell_type": "markdown",
   "metadata": {},
   "source": [
    "**NEWTON'S LAWS**\n",
    "\n",
    "**QUESTION:1A car travel with a constant velocity. a)What is the horizontal net force acting on the car b)What is the acceleration on the car c)If the friction force acting on the car is 1500N,What force is applied to the car by the engine?\"**"
   ]
  },
  {
   "cell_type": "code",
   "execution_count": 181,
   "metadata": {
    "scrolled": true
   },
   "outputs": [
    {
     "name": "stdout",
     "output_type": "stream",
     "text": [
      "since the car is moving with the constant velocity so,the acceleration is:\n",
      "a) a=0m/s^2\n",
      "since the acceleration is zero so, the force is:\n",
      "b) F=0N\n",
      "since the car is moving with the constant velocity and if the frictional force of 1500N is applied so the opposing force is also of 1500N to cancel the effect of frictional force\n",
      "c) F=1500N\n"
     ]
    }
   ],
   "source": [
    "    print(\"since the car is moving with the constant velocity so,the acceleration is:\")\n",
    "    print(\"a) a=0m/s^2\")\n",
    "    print(\"since the acceleration is zero so, the force is:\")\n",
    "    print(\"b) F=0N\")\n",
    "    print(\"since the car is moving with the constant velocity and if the frictional force of 1500N is applied so the opposing force is also of 1500N to cancel the effect of frictional force\")\n",
    "    print(\"c) F=1500N\")"
   ]
  },
  {
   "cell_type": "markdown",
   "metadata": {},
   "source": [
    "**QUESTION:2An 80kg Astronaut in space throws a 2kg package with an acceleration of 4m/s^2.a)What force did the astronaut exerts on the package.b)What force did the package exert on the astronaut?.c)What is the acceleration of the astronaut?.** "
   ]
  },
  {
   "cell_type": "code",
   "execution_count": 182,
   "metadata": {},
   "outputs": [],
   "source": [
    "def Newtons(m1,m2,a):\n",
    "    F1=(m2)*a\n",
    "    F2=-(F1)\n",
    "    a1=-(F1)/(m1)\n",
    "    print(\"The force which astronaut exerts into the package,the force the package exerts on the astronaut,the acceleration of the astronaut is: \")\n",
    "    return(F1,F2,a1)"
   ]
  },
  {
   "cell_type": "code",
   "execution_count": 183,
   "metadata": {},
   "outputs": [
    {
     "name": "stdout",
     "output_type": "stream",
     "text": [
      "The force which astronaut exerts into the package,the force the package exerts on the astronaut,the acceleration of the astronaut is: \n"
     ]
    },
    {
     "data": {
      "text/plain": [
       "(8, -8, -0.1)"
      ]
     },
     "execution_count": 183,
     "metadata": {},
     "output_type": "execute_result"
    }
   ],
   "source": [
    "Newtons(80,2,4)"
   ]
  },
  {
   "cell_type": "markdown",
   "metadata": {},
   "source": [
    "**DAMPING OSCILLATION**\n",
    "\n",
    "**QUESTION:1Calculate the time after damping when A=1/10Ao and the damping constant is 2 and the mass is 0.5kg**"
   ]
  },
  {
   "cell_type": "code",
   "execution_count": 184,
   "metadata": {},
   "outputs": [],
   "source": [
    "def oscillation(m,b):\n",
    "    import math\n",
    "    print(\"By performing the given condition then,the time is given by:\")\n",
    "    t=-((2*(math.log((1/10)))*m)/b)\n",
    "    return(t)"
   ]
  },
  {
   "cell_type": "code",
   "execution_count": 185,
   "metadata": {},
   "outputs": [
    {
     "name": "stdout",
     "output_type": "stream",
     "text": [
      "By performing the given condition then,the time is given by:\n"
     ]
    },
    {
     "data": {
      "text/plain": [
       "1.1512925464970227"
      ]
     },
     "execution_count": 185,
     "metadata": {},
     "output_type": "execute_result"
    }
   ],
   "source": [
    "oscillation(0.5,2)"
   ]
  },
  {
   "cell_type": "markdown",
   "metadata": {},
   "source": [
    "**QUESTION:2Calculate the number of oscillation when the spring constant is K=5N/m and the damping constant b=2 and the mass is 0.5kg and if the time given is 1.151sec.**"
   ]
  },
  {
   "cell_type": "code",
   "execution_count": 186,
   "metadata": {},
   "outputs": [
    {
     "ename": "SyntaxError",
     "evalue": "invalid syntax (<ipython-input-186-163755cf7b4f>, line 1)",
     "output_type": "error",
     "traceback": [
      "\u001b[1;36m  File \u001b[1;32m\"<ipython-input-186-163755cf7b4f>\"\u001b[1;36m, line \u001b[1;32m1\u001b[0m\n\u001b[1;33m    ωdef oscillation(k,b,m,t):\u001b[0m\n\u001b[1;37m         ^\u001b[0m\n\u001b[1;31mSyntaxError\u001b[0m\u001b[1;31m:\u001b[0m invalid syntax\n"
     ]
    }
   ],
   "source": [
    "ωdef oscillation(k,b,m,t):\n",
    "    from math import sqrt\n",
    "    π=3.142\n",
    "    ωo=sqrt((k/m)-((b**2)/4*(m**2)))\n",
    "    f=ωo/2*π\n",
    "    print(\"The number of oscillations are: \")\n",
    "    return(f)\n",
    "    "
   ]
  },
  {
   "cell_type": "code",
   "execution_count": 187,
   "metadata": {},
   "outputs": [
    {
     "ename": "TypeError",
     "evalue": "oscillation() takes 2 positional arguments but 4 were given",
     "output_type": "error",
     "traceback": [
      "\u001b[1;31m---------------------------------------------------------------------------\u001b[0m",
      "\u001b[1;31mTypeError\u001b[0m                                 Traceback (most recent call last)",
      "\u001b[1;32m<ipython-input-187-624ba7de784f>\u001b[0m in \u001b[0;36m<module>\u001b[1;34m\u001b[0m\n\u001b[1;32m----> 1\u001b[1;33m \u001b[0moscillation\u001b[0m\u001b[1;33m(\u001b[0m\u001b[1;36m5\u001b[0m\u001b[1;33m,\u001b[0m\u001b[1;36m2\u001b[0m\u001b[1;33m,\u001b[0m\u001b[1;36m0.5\u001b[0m\u001b[1;33m,\u001b[0m\u001b[1;36m1.151\u001b[0m\u001b[1;33m)\u001b[0m\u001b[1;33m\u001b[0m\u001b[1;33m\u001b[0m\u001b[0m\n\u001b[0m",
      "\u001b[1;31mTypeError\u001b[0m: oscillation() takes 2 positional arguments but 4 were given"
     ]
    }
   ],
   "source": [
    "oscillation(5,2,0.5,1.151)"
   ]
  },
  {
   "cell_type": "markdown",
   "metadata": {},
   "source": [
    "**USING FILE MATPLOTLIB**\n",
    "\n",
    "**Graph between current and voltage**"
   ]
  },
  {
   "cell_type": "code",
   "execution_count": 188,
   "metadata": {},
   "outputs": [
    {
     "data": {
      "image/png": "[encoded data removed]",
      "text/plain": [
       "<Figure size 432x288 with 1 Axes>"
      ]
     },
     "metadata": {
      "needs_background": "light"
     },
     "output_type": "display_data"
    }
   ],
   "source": [
    "import numpy as np\n",
    "import matplotlib.pyplot as plt\n",
    "R=2\n",
    "V=np.arange(10,20)\n",
    "I=V/R\n",
    "plt.plot(V,I)\n",
    "plt.show()\n",
    "  "
   ]
  },
  {
   "cell_type": "markdown",
   "metadata": {},
   "source": [
    "**Graph between displacement of wave and time**"
   ]
  },
  {
   "cell_type": "code",
   "execution_count": 189,
   "metadata": {},
   "outputs": [
    {
     "data": {
      "image/png": "[encoded data removed]",
      "text/plain": [
       "<Figure size 432x288 with 1 Axes>"
      ]
     },
     "metadata": {
      "needs_background": "light"
     },
     "output_type": "display_data"
    }
   ],
   "source": [
    "import numpy as np\n",
    "import matplotlib.pyplot as plt\n",
    "A=23\n",
    "ω=5\n",
    "t=np.arange(10,20)\n",
    "x=A*(np.sin(ω*t))\n",
    "plt.plot(t,x)\n",
    "plt.show()"
   ]
  },
  {
   "cell_type": "markdown",
   "metadata": {},
   "source": [
    "**Graph between Max Heigth and Range**\n"
   ]
  },
  {
   "cell_type": "code",
   "execution_count": 190,
   "metadata": {},
   "outputs": [
    {
     "data": {
      "image/png": "[encoded data removed]",
      "text/plain": [
       "<Figure size 432x288 with 1 Axes>"
      ]
     },
     "metadata": {
      "needs_background": "light"
     },
     "output_type": "display_data"
    }
   ],
   "source": [
    "import numpy as np\n",
    "import matplotlib.pyplot as plt\n",
    "V=5\n",
    "g=9.8\n",
    "theta=np.arange(1,360)\n",
    "t=np.radians(theta)\n",
    "H=(((V**2)*((np.sin(t)*2)))/(2*g))\n",
    "R=(((V**2)*(np.sin(2*t)))/(g))\n",
    "plt.plot(R,H)\n",
    "plt.show()"
   ]
  },
  {
   "cell_type": "markdown",
   "metadata": {},
   "source": [
    "**Graph between velocity and wavelength**"
   ]
  },
  {
   "cell_type": "code",
   "execution_count": 191,
   "metadata": {},
   "outputs": [
    {
     "data": {
      "image/png": "[encoded data removed]",
      "text/plain": [
       "<Figure size 432x288 with 1 Axes>"
      ]
     },
     "metadata": {
      "needs_background": "light"
     },
     "output_type": "display_data"
    }
   ],
   "source": [
    "import numpy as np\n",
    "import matplotlib.pyplot as plt\n",
    "f=3\n",
    "V=np.arange(10,50)\n",
    "λ=V/f\n",
    "plt.plot(V,λ,'r')\n",
    "plt.show()"
   ]
  },
  {
   "cell_type": "code",
   "execution_count": null,
   "metadata": {},
   "outputs": [],
   "source": []
  },
  {
   "cell_type": "code",
   "execution_count": null,
   "metadata": {},
   "outputs": [],
   "source": []
  }
 ],
 "metadata": {
  "kernelspec": {
   "display_name": "Python 3",
   "language": "python",
   "name": "python3"
  },
  "language_info": {
   "codemirror_mode": {
    "name": "ipython",
    "version": 3
   },
   "file_extension": ".py",
   "mimetype": "text/x-python",
   "name": "python",
   "nbconvert_exporter": "python",
   "pygments_lexer": "ipython3",
   "version": "3.8.5"
  }
 },
 "nbformat": 4,
 "nbformat_minor": 4
}
