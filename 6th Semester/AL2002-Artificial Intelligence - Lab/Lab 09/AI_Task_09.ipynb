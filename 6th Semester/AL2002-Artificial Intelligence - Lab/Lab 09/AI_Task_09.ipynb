{
 "cells": [
  {
   "cell_type": "code",
   "execution_count": 1,
   "id": "b86acf75",
   "metadata": {},
   "outputs": [
    {
     "name": "stdout",
     "output_type": "stream",
     "text": [
      "The most likely plan responsible for the defective product is plan 3\n"
     ]
    }
   ],
   "source": [
    "# define the prior probabilities for each plan\n",
    "prior_probs = [0.3, 0.2, 0.5]\n",
    "\n",
    "likelihood_probs = [0.01, 0.03, 0.02]\n",
    "evidence = sum([prior_probs[i] * likelihood_probs[i] for i in range(3)])\n",
    "posterior_probs = [prior_probs[i] * likelihood_probs[i] / evidence for i in range(3)]\n",
    "\n",
    "# determine the most likely plan responsible for the defective product\n",
    "most_likely_plan = posterior_probs.index(max(posterior_probs)) + 1\n",
    "\n",
    "print(f\"The most likely plan responsible for the defective product is plan {most_likely_plan}\")"
   ]
  },
  {
   "cell_type": "code",
   "execution_count": null,
   "id": "673d331a",
   "metadata": {},
   "outputs": [],
   "source": []
  }
 ],
 "metadata": {
  "kernelspec": {
   "display_name": "Python 3 (ipykernel)",
   "language": "python",
   "name": "python3"
  },
  "language_info": {
   "codemirror_mode": {
    "name": "ipython",
    "version": 3
   },
   "file_extension": ".py",
   "mimetype": "text/x-python",
   "name": "python",
   "nbconvert_exporter": "python",
   "pygments_lexer": "ipython3",
   "version": "3.10.7"
  }
 },
 "nbformat": 4,
 "nbformat_minor": 5
}
