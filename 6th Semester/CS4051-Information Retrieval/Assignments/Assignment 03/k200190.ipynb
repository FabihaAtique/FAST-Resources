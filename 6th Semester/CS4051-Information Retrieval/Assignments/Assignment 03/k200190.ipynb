{
 "cells": [
  {
   "cell_type": "code",
   "execution_count": 10,
   "id": "7c0cce4e",
   "metadata": {},
   "outputs": [
    {
     "name": "stdout",
     "output_type": "stream",
     "text": [
      "patool: Extracting Doc50.rar ...\n",
      "patool: running \"C:\\Program Files\\WinRAR\\rar.EXE\" x -- \"C:\\Users\\usama\\Desktop\\Assignment 03\\Doc50.rar\"\n",
      "patool:     with cwd=.\\Unpack_g0jo9x2e\n",
      "patool: ... Doc50.rar extracted to `Doc501' (multiple files in root).\n"
     ]
    }
   ],
   "source": [
    "import rarfile\n",
    "import pandas as pd\n",
    "from sklearn.feature_extraction.text import TfidfVectorizer\n",
    "from sklearn.cluster import KMeans\n",
    "from sklearn.metrics import accuracy_score\n",
    "from sklearn.metrics.cluster import contingency_matrix\n",
    "\n",
    "import patoolib\n",
    "\n",
    "# Extract the contents of the RAR file\n",
    "patoolib.extract_archive('Doc50.rar')\n",
    "\n",
    "# Load the dataset into a pandas DataFrame\n",
    "df = pd.DataFrame(columns=['text', 'class'])\n"
   ]
  },
  {
   "cell_type": "code",
   "execution_count": 14,
   "id": "e82d7be7",
   "metadata": {},
   "outputs": [
    {
     "name": "stderr",
     "output_type": "stream",
     "text": [
      "[nltk_data] Downloading package stopwords to\n",
      "[nltk_data]     C:\\Users\\usama\\AppData\\Roaming\\nltk_data...\n",
      "[nltk_data]   Package stopwords is already up-to-date!\n"
     ]
    }
   ],
   "source": [
    "import re\n",
    "import nltk\n",
    "from nltk.corpus import stopwords\n",
    "nltk.download('stopwords')\n",
    "\n",
    "# Preprocess the dataset\n",
    "def preprocess_text(text):\n",
    "    text = re.sub('[^a-zA-Z]', ' ', text)\n",
    "    text = text.lower()\n",
    "    words = text.split()\n",
    "    stop_words = set(stopwords.words('english'))\n",
    "    words = [w for w in words if not w in stop_words]\n",
    "    return ' '.join(words)\n",
    "\n",
    "df['text'] = df['text'].apply(preprocess_text)"
   ]
  },
  {
   "cell_type": "code",
   "execution_count": null,
   "id": "3d1766e5",
   "metadata": {},
   "outputs": [],
   "source": [
    "# Create feature vectors using TfidfVectorizer\n",
    "vectorizer = TfidfVectorizer(max_features=5000)\n",
    "X = vectorizer.fit_transform(df['text']).toarray()"
   ]
  },
  {
   "cell_type": "code",
   "execution_count": null,
   "id": "916d076e",
   "metadata": {},
   "outputs": [],
   "source": [
    "# Implement K-Means algorithm\n",
    "kmeans = KMeans(n_clusters=5, init='k-means++', max_iter=300, n_init=10, random_state=0)\n",
    "y_kmeans = kmeans.fit_predict(X)\n"
   ]
  },
  {
   "cell_type": "code",
   "execution_count": null,
   "id": "b77697f6",
   "metadata": {},
   "outputs": [],
   "source": [
    "# Evaluate clustering result using purity\n",
    "labels_true = df['class'].tolist()\n",
    "labels_pred = y_kmeans.tolist()\n",
    "cm = contingency_matrix(labels_true, labels_pred)\n",
    "accuracy = sum([max(row) for row in cm]) / sum(sum(cm))\n",
    "print('Purity:', accuracy)\n"
   ]
  },
  {
   "cell_type": "code",
   "execution_count": null,
   "id": "7ef16589",
   "metadata": {},
   "outputs": [],
   "source": [
    "# Evaluate clustering result using purity\n",
    "labels_true = df['class'].tolist()\n",
    "labels_pred = y_kmeans.tolist()\n",
    "cm = contingency_matrix(labels_true, labels_pred)\n",
    "accuracy = sum([max(row) for row in cm]) / sum(sum(cm))\n",
    "print('Purity:', accuracy)\n"
   ]
  }
 ],
 "metadata": {
  "kernelspec": {
   "display_name": "Python 3 (ipykernel)",
   "language": "python",
   "name": "python3"
  },
  "language_info": {
   "codemirror_mode": {
    "name": "ipython",
    "version": 3
   },
   "file_extension": ".py",
   "mimetype": "text/x-python",
   "name": "python",
   "nbconvert_exporter": "python",
   "pygments_lexer": "ipython3",
   "version": "3.10.7"
  }
 },
 "nbformat": 4,
 "nbformat_minor": 5
}
